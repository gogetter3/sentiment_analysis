{
 "cells": [
  {
   "cell_type": "markdown",
   "id": "92480bda",
   "metadata": {},
   "source": [
    "# Построение модели сентимент анализа отзывов на телефоны.\n",
    "## Выборка была собрана в предыдущем ноутбуке."
   ]
  },
  {
   "cell_type": "code",
   "execution_count": 1,
   "id": "62e307b9",
   "metadata": {},
   "outputs": [],
   "source": [
    "import pandas as pd\n",
    "import numpy as np\n",
    "import re\n",
    "import warnings\n",
    "import random\n",
    "from sklearn.model_selection import train_test_split\n",
    "from sklearn.feature_extraction.text import CountVectorizer, TfidfTransformer, TfidfVectorizer\n",
    "from sklearn.linear_model import LogisticRegression, SGDClassifier, RidgeClassifier\n",
    "from sklearn.svm import LinearSVC\n",
    "from sklearn.model_selection import RandomizedSearchCV, cross_val_score, StratifiedKFold, train_test_split\n",
    "from sklearn.pipeline import Pipeline\n",
    "from sklearn.naive_bayes import MultinomialNB, BernoulliNB\n",
    "from sklearn.tree import DecisionTreeClassifier\n",
    "from sklearn.ensemble import RandomForestClassifier, GradientBoostingClassifier\n",
    "from sklearn.metrics import classification_report, accuracy_score\n",
    "import matplotlib.pyplot as plt\n",
    "from collections import Counter\n",
    "warnings.filterwarnings('ignore')"
   ]
  },
  {
   "cell_type": "markdown",
   "id": "2ec8052b",
   "metadata": {},
   "source": [
    "## Считаем данные из файлов и посморим на них"
   ]
  },
  {
   "cell_type": "code",
   "execution_count": 2,
   "id": "f7527306",
   "metadata": {},
   "outputs": [],
   "source": [
    "with open('test.csv', 'r') as f:\n",
    "    text = f.read()\n",
    "    text = text.replace('\\n', ' ')\n",
    "    komms = [rev.strip() for rev in re.findall(r'<review>(.+?)</review>', text)]\n",
    "    pd.DataFrame(data={'komment': komms}).to_csv('test_data.csv', index=False)"
   ]
  },
  {
   "cell_type": "code",
   "execution_count": 3,
   "id": "f00322ba",
   "metadata": {
    "scrolled": true
   },
   "outputs": [],
   "source": [
    "df = pd.read_csv('revs.csv')\n",
    "data = pd.read_csv('test_data.csv')"
   ]
  },
  {
   "cell_type": "code",
   "execution_count": 4,
   "id": "b6ce68d0",
   "metadata": {
    "scrolled": true
   },
   "outputs": [
    {
     "data": {
      "text/html": [
       "<div>\n",
       "<style scoped>\n",
       "    .dataframe tbody tr th:only-of-type {\n",
       "        vertical-align: middle;\n",
       "    }\n",
       "\n",
       "    .dataframe tbody tr th {\n",
       "        vertical-align: top;\n",
       "    }\n",
       "\n",
       "    .dataframe thead th {\n",
       "        text-align: right;\n",
       "    }\n",
       "</style>\n",
       "<table border=\"1\" class=\"dataframe\">\n",
       "  <thead>\n",
       "    <tr style=\"text-align: right;\">\n",
       "      <th></th>\n",
       "      <th>komment</th>\n",
       "    </tr>\n",
       "  </thead>\n",
       "  <tbody>\n",
       "    <tr>\n",
       "      <th>0</th>\n",
       "      <td>Ужасно слабый аккумулятор, это основной минус ...</td>\n",
       "    </tr>\n",
       "    <tr>\n",
       "      <th>1</th>\n",
       "      <td>ценанадежность-неубиваемостьдолго держит батар...</td>\n",
       "    </tr>\n",
       "    <tr>\n",
       "      <th>2</th>\n",
       "      <td>подробнее в комментариях К сожалению, факт пол...</td>\n",
       "    </tr>\n",
       "    <tr>\n",
       "      <th>3</th>\n",
       "      <td>я любительница громкой музыки. Тише телефона у...</td>\n",
       "    </tr>\n",
       "    <tr>\n",
       "      <th>4</th>\n",
       "      <td>Дата выпуска - 2011 г, емкость - 1430 mAh, тех...</td>\n",
       "    </tr>\n",
       "  </tbody>\n",
       "</table>\n",
       "</div>"
      ],
      "text/plain": [
       "                                             komment\n",
       "0  Ужасно слабый аккумулятор, это основной минус ...\n",
       "1  ценанадежность-неубиваемостьдолго держит батар...\n",
       "2  подробнее в комментариях К сожалению, факт пол...\n",
       "3  я любительница громкой музыки. Тише телефона у...\n",
       "4  Дата выпуска - 2011 г, емкость - 1430 mAh, тех..."
      ]
     },
     "execution_count": 4,
     "metadata": {},
     "output_type": "execute_result"
    }
   ],
   "source": [
    "data.head()"
   ]
  },
  {
   "cell_type": "code",
   "execution_count": 5,
   "id": "4f8e14db",
   "metadata": {
    "scrolled": true
   },
   "outputs": [
    {
     "data": {
      "text/html": [
       "<div>\n",
       "<style scoped>\n",
       "    .dataframe tbody tr th:only-of-type {\n",
       "        vertical-align: middle;\n",
       "    }\n",
       "\n",
       "    .dataframe tbody tr th {\n",
       "        vertical-align: top;\n",
       "    }\n",
       "\n",
       "    .dataframe thead th {\n",
       "        text-align: right;\n",
       "    }\n",
       "</style>\n",
       "<table border=\"1\" class=\"dataframe\">\n",
       "  <thead>\n",
       "    <tr style=\"text-align: right;\">\n",
       "      <th></th>\n",
       "      <th>pos</th>\n",
       "      <th>neg</th>\n",
       "      <th>komment</th>\n",
       "      <th>result</th>\n",
       "    </tr>\n",
       "  </thead>\n",
       "  <tbody>\n",
       "    <tr>\n",
       "      <th>0</th>\n",
       "      <td>Наклеена защитная пленка,чехол из коробки ,дов...</td>\n",
       "      <td>Предустановленные приложения производителя кот...</td>\n",
       "      <td>Полностью соответствует моим потребностям!Особ...</td>\n",
       "      <td>Отличный</td>\n",
       "    </tr>\n",
       "    <tr>\n",
       "      <th>1</th>\n",
       "      <td>1. Хороший дизайн2. Камера довольно высокого у...</td>\n",
       "      <td>Экран поддерживает только частоту в 60 Гц, в о...</td>\n",
       "      <td>В целом это лучший вариант на мой взгляд в дан...</td>\n",
       "      <td>Отличный</td>\n",
       "    </tr>\n",
       "    <tr>\n",
       "      <th>2</th>\n",
       "      <td>В целом хороший телефон. Просто мне не повезло.</td>\n",
       "      <td>Фронталка мутно фоткала. Сравнила с выставочны...</td>\n",
       "      <td>Заметила косяк фронтальной камеры. В отличие о...</td>\n",
       "      <td>Обычный</td>\n",
       "    </tr>\n",
       "    <tr>\n",
       "      <th>3</th>\n",
       "      <td>Очень шустрый, с хорошим железом и камерами. П...</td>\n",
       "      <td>NaN</td>\n",
       "      <td>Однозначно рекомендую брать</td>\n",
       "      <td>Отличный</td>\n",
       "    </tr>\n",
       "    <tr>\n",
       "      <th>4</th>\n",
       "      <td>Долго держит батарею.Камера.Возможность встави...</td>\n",
       "      <td>Плохо снимает видео.Нужно привыкать к Амолед э...</td>\n",
       "      <td>С 2014 по 2017 пользовался только Сяоми, так к...</td>\n",
       "      <td>Хороший</td>\n",
       "    </tr>\n",
       "  </tbody>\n",
       "</table>\n",
       "</div>"
      ],
      "text/plain": [
       "                                                 pos  \\\n",
       "0  Наклеена защитная пленка,чехол из коробки ,дов...   \n",
       "1  1. Хороший дизайн2. Камера довольно высокого у...   \n",
       "2    В целом хороший телефон. Просто мне не повезло.   \n",
       "3  Очень шустрый, с хорошим железом и камерами. П...   \n",
       "4  Долго держит батарею.Камера.Возможность встави...   \n",
       "\n",
       "                                                 neg  \\\n",
       "0  Предустановленные приложения производителя кот...   \n",
       "1  Экран поддерживает только частоту в 60 Гц, в о...   \n",
       "2  Фронталка мутно фоткала. Сравнила с выставочны...   \n",
       "3                                                NaN   \n",
       "4  Плохо снимает видео.Нужно привыкать к Амолед э...   \n",
       "\n",
       "                                             komment    result  \n",
       "0  Полностью соответствует моим потребностям!Особ...  Отличный  \n",
       "1  В целом это лучший вариант на мой взгляд в дан...  Отличный  \n",
       "2  Заметила косяк фронтальной камеры. В отличие о...   Обычный  \n",
       "3                        Однозначно рекомендую брать  Отличный  \n",
       "4  С 2014 по 2017 пользовался только Сяоми, так к...   Хороший  "
      ]
     },
     "execution_count": 5,
     "metadata": {},
     "output_type": "execute_result"
    }
   ],
   "source": [
    "df.head()"
   ]
  },
  {
   "cell_type": "code",
   "execution_count": 6,
   "id": "3a766a26",
   "metadata": {
    "scrolled": false
   },
   "outputs": [
    {
     "data": {
      "text/plain": [
       "Отличный    1341\n",
       "Хороший      273\n",
       "Обычный      152\n",
       "Ужасный      127\n",
       "Плохой       106\n",
       "Хорош          1\n",
       "Name: result, dtype: int64"
      ]
     },
     "execution_count": 6,
     "metadata": {},
     "output_type": "execute_result"
    }
   ],
   "source": [
    "df.result.value_counts()"
   ]
  },
  {
   "cell_type": "markdown",
   "id": "e7e708dc",
   "metadata": {},
   "source": [
    "## Так как в форме яндекс маркета есть три поля: достоинства, недостатки и комментарий, пользователи часто заполняют поле недостатков на отличные товары словами: 'нет', 'не найдены' и тд. Тоже самое часто бывает в достоинствах ужасных товаров. Удалим такие слова, чтобы они не сбивали модель."
   ]
  },
  {
   "cell_type": "code",
   "execution_count": 7,
   "id": "699fdd30",
   "metadata": {},
   "outputs": [
    {
     "data": {
      "text/plain": [
       "['Предустановленные приложения производителя которые и не нужны но и удалить их нельзя',\n",
       " 'Экран поддерживает только частоту в 60 Гц, в отличии от версии Pro.Иногда снимки получаются размазанными. Фокусировка при движении не идеальна.',\n",
       " nan,\n",
       " 'Не найдены,либо незначительные',\n",
       " 'Нет',\n",
       " 'Не обнаружила',\n",
       " 'Нет.',\n",
       " 'Нет.',\n",
       " nan,\n",
       " 'привезли не тот цвет !!!',\n",
       " nan,\n",
       " 'как мне казалось зарядку жрёт быстрее чем в своё время новый редми ноут 5 про 4/64, но возможно мне это только кажется))) на два дня с соцсетями, фотографированием по работе мне хватает',\n",
       " 'Андроид. ))))Есть замечание - динамик! Ну просто все слышат, что мне отвечает собеседник. Правда, странный прикол.',\n",
       " nan,\n",
       " 'Пока не заметили',\n",
       " 'Иногда подвисает',\n",
       " 'Нет лампочки индикатора пропущенного события',\n",
       " 'Пока все понравилось,',\n",
       " nan,\n",
       " 'не совсем понятный интерфейс, после установки мелодии вызова через несколько часов на любой входящий вызов вместо установленой мелодии еле слышное пиканье, в источнике проблемы пока не разобрался - проблема решена. недостатков пока не выявлено.',\n",
       " 'Для меня норм. для повседневного пользования.',\n",
       " 'Со старого телефона другого производителя отцу сложно было перенести данные.',\n",
       " nan,\n",
       " 'Пока их нет',\n",
       " 'не выявлено']"
      ]
     },
     "execution_count": 7,
     "metadata": {},
     "output_type": "execute_result"
    }
   ],
   "source": [
    "list(df[df.result.isin(['Отличный'])].neg)[:25]"
   ]
  },
  {
   "cell_type": "code",
   "execution_count": 8,
   "id": "9ef4fe4c",
   "metadata": {},
   "outputs": [
    {
     "data": {
      "text/plain": [
       "['Плохо снимает видео.Нужно привыкать к Амолед экрану.Нелогичное и частями сложное меню.Походу с клонами контактов Сяоми так и не решил проблему, а уже 4 года прошло.',\n",
       " 'Камера, нет индикатора сообщений, always on display активен только 10 секунд',\n",
       " 'Камера!!!',\n",
       " 'Экран (точнее наклейка убивается от чиха на него) , размер тк если вы не пионист то вам тяжело будет дотянуться до места вырубающего то или иное приложение (свайп во многих не робит) , камера шлак (пока она сфокусируется у тебя появиться семья и ты поймешь что фото в движении эта камера просто не берет)',\n",
       " 'Реклама в операционке, благо есть инструкции на ютубе как ее вырезать',\n",
       " 'Не понравилась камера через родное приложение. Фотографии часто пересвечены, есть эффект масляной картинки какой-то. Ожидал, что будет лучше. Может исправят в дальнейшем. Пользуюсь gcam, через него получается лучше.',\n",
       " 'спустя неделю начал хрипеть динамик при разговоре на громкой связи',\n",
       " 'Именно для жены минусом является наличие сканера отпечатков на кнопки включения, а также слишком большой экран для телефона.',\n",
       " 'Начала пользоваться, все установила, загрузила и итого:- заряда хватает только на целый день, к позднему вечеру или под утро нужна зарядка. Сейчас сижу на удаленке, поэтому вынуждена раздавать инет, звонки, мессенджеры, соц.сети, просмотр youtube, музыка. к вечеру телефон сдыхает, думала, аккум будет мощнее. и это учитывая, что я вообще ни в какие игры не играю.- огромный размер самого аппарата, в мою маленькую руку не помещается особенно в чехле. кисть устает очень быстро и иногда немеют пальцы. но это проблема маркетологов, ведь сейчас все телефоны для великанов.',\n",
       " 'Ощущение недоработаности',\n",
       " 'Динамик расположен в верхнем торце телефона, соответственно, разговор слышен всем окружающим. выход - убавлять звук, но это очень раздражает.',\n",
       " 'При зарядке греется до 42 градусов батарея длится минуты 2 а потом опускается до нормы , не знаю плохо ли это или нет.',\n",
       " 'Камера хуже, чем у других производителей подобных моделей',\n",
       " 'При звонке плохо срабатывает датчик приближения.',\n",
       " 'Датчик приближение это тихий ужас. Приходится перед тем как подносить телефон к уху ставить его на блок боковой клавишей.',\n",
       " 'Иногда замыкает',\n",
       " 'При разговоре постоянно выключается микрофон, чувствительный сенсор и ухом случайно нажимается',\n",
       " 'Камера слабовата',\n",
       " 'Но не надолго, через полгода ежедневного использования вздулся аккумулятор.',\n",
       " 'Нет зарядного устройства',\n",
       " 'когда ты его включаеш то ети кнопки очень громкие',\n",
       " 'Парень в техподдержке как партизан на допросе,похоже мои письма приходят когда он обедает... Просто в инструкции ничего не написано толком подробности.',\n",
       " 'Нет',\n",
       " 'Очень сложно открылась крышка и нет наушников.',\n",
       " 'Отвратительный микрофон, динамик развёрнут в обратную сторону.']"
      ]
     },
     "execution_count": 8,
     "metadata": {},
     "output_type": "execute_result"
    }
   ],
   "source": [
    "list(df[df.result.isin(['Хороший'])].neg)[:25]"
   ]
  },
  {
   "cell_type": "code",
   "execution_count": 9,
   "id": "770f80c6",
   "metadata": {},
   "outputs": [
    {
     "data": {
      "text/plain": [
       "['В целом хороший телефон. Просто мне не повезло.',\n",
       " 'ЦенаХорошо держит заряд при умеренном использовании',\n",
       " 'Экран супер, камера супер',\n",
       " nan,\n",
       " 'Быстрая доставка. Меньше недели до Самары.Телефон классный, жена довольна.',\n",
       " 'В целом неплохой вариант, но не за такие деньги',\n",
       " nan,\n",
       " 'Обычный.',\n",
       " 'Неплохой экран',\n",
       " 'Маленький, громкий звук кнопок',\n",
       " 'Аккумулятор депжит зарядку смело дней на 5',\n",
       " 'Цена, упаковка',\n",
       " nan,\n",
       " 'Крепкий, яркий фонарик',\n",
       " nan,\n",
       " 'Цена',\n",
       " nan,\n",
       " nan,\n",
       " 'отсутствие камеры, 2 симки',\n",
       " 'Цена,компактность,фонарик нормально светит.',\n",
       " 'Дешево, ничего лишнего, если брать для звонков, фонарик',\n",
       " 'Для моих целей он меня устраивает.',\n",
       " 'Цена',\n",
       " 'Цена',\n",
       " 'Цена. Уровень зарядки.']"
      ]
     },
     "execution_count": 9,
     "metadata": {},
     "output_type": "execute_result"
    }
   ],
   "source": [
    "list(df[df.result.isin(['Обычный'])].pos)[:25]"
   ]
  },
  {
   "cell_type": "code",
   "execution_count": 10,
   "id": "7ee71f1a",
   "metadata": {},
   "outputs": [
    {
     "data": {
      "text/plain": [
       "['Приятный дизайн, экран насыщенный, легкий, идеальный размер',\n",
       " 'Обычная звонилка',\n",
       " 'Цена, очень лёгкий',\n",
       " 'Принимает звонки и смс, и отправляет. Есть радио и фонарик. Стоит ерунду.',\n",
       " 'Копия НОКИА 105. Звук хороший.',\n",
       " 'Дизайн',\n",
       " 'Компактный и прост в использовании',\n",
       " 'легкий',\n",
       " 'Цена? Хотя зачем платить за бесполезную вещь?',\n",
       " 'Цена',\n",
       " 'дешевый обычный телефон, поразило что до сих пор есть телефоны с отдельной батарейкой',\n",
       " 'Цена',\n",
       " 'Работает',\n",
       " 'За эти деньги вполне быстрый, пока система чистая конечно',\n",
       " nan,\n",
       " 'Их нет, от Нокии остались только буквы',\n",
       " 'красивый, удобный, боле-мене приличная камера',\n",
       " 'Издалека смотрится симпатично',\n",
       " 'Выглядит хорошо.',\n",
       " nan,\n",
       " 'В телефоне работает симка оператора TELE2',\n",
       " 'Дизайн.WhatsApp.',\n",
       " 'Быстро, чётко , что заказал , то и получил .Плюсы? несколько ; аккумулятор, долго держит, если не смотреть YouTube дня 3,4NFC высший пилотаж, на расстоянии см 25 уже срабатывает и быстроОтпечаток пальца удобно расположен.Быстрая зарядка , кабель tape-c!',\n",
       " 'Сам телефон норм, но всё остальное ниже.',\n",
       " 'экранналичие nfcстереодинамики']"
      ]
     },
     "execution_count": 10,
     "metadata": {},
     "output_type": "execute_result"
    }
   ],
   "source": [
    "list(df[df.result.isin(['Плохой'])].pos)[:25]"
   ]
  },
  {
   "cell_type": "code",
   "execution_count": 11,
   "id": "3fc43032",
   "metadata": {
    "scrolled": true
   },
   "outputs": [
    {
     "data": {
      "text/plain": [
       "['Нет',\n",
       " 'Нет',\n",
       " nan,\n",
       " nan,\n",
       " 'Лёгкие, удобный',\n",
       " 'Нет',\n",
       " 'Никаких',\n",
       " '-',\n",
       " nan,\n",
       " 'Нет',\n",
       " 'Обычный телефон',\n",
       " 'Нет достоинств',\n",
       " 'Нет',\n",
       " 'Неплохой дисплей, нормальный мелодии',\n",
       " nan,\n",
       " 'красивый дизайн и цена',\n",
       " nan,\n",
       " 'Нет',\n",
       " 'Нет',\n",
       " nan,\n",
       " 'цена в теории если бы он работал',\n",
       " nan,\n",
       " 'Достоинств нет.',\n",
       " nan,\n",
       " 'цена']"
      ]
     },
     "execution_count": 11,
     "metadata": {},
     "output_type": "execute_result"
    }
   ],
   "source": [
    "list(df[df.result.isin(['Ужасный'])].pos)[:25]"
   ]
  },
  {
   "cell_type": "markdown",
   "id": "54850b92",
   "metadata": {},
   "source": [
    "## Обрежем слишком короткий текст из поля 'достоинства' в ужасных товарах и поля 'недостатки' отличных товаров. Подразумевается, что более длинные отзывы все таки содержат полезную информацию."
   ]
  },
  {
   "cell_type": "code",
   "execution_count": 12,
   "id": "1dd17262",
   "metadata": {
    "scrolled": true
   },
   "outputs": [],
   "source": [
    "df.fillna('', inplace=True)"
   ]
  },
  {
   "cell_type": "code",
   "execution_count": 13,
   "id": "147ebaa7",
   "metadata": {},
   "outputs": [],
   "source": [
    "df['target'] = df['result'].map({'Отличный': 1, 'Хороший': 1, 'Плохой': 0, 'Ужасный': 0})"
   ]
  },
  {
   "cell_type": "code",
   "execution_count": 14,
   "id": "42adde40",
   "metadata": {
    "scrolled": false
   },
   "outputs": [],
   "source": [
    "df.loc[(df.result == 'Отличный') & (df.neg.map(len) < 20), 'neg'] = ''\n",
    "df.loc[(df.result == 'Ужасный') & (df.pos.map(len) < 20), 'pos'] = ''"
   ]
  },
  {
   "cell_type": "markdown",
   "id": "fd0451c3",
   "metadata": {},
   "source": [
    "## Проверим три гипотезы:\n",
    "## 1. Возьмем полный тест отзыва из достоинств, недостатков и комментария.\n",
    "## 2. Возможно люди не стали бы указывать столько недостатков в положительных отзывах и достоинств в отрицательных, если бы не форма яндекса, возьмем положительные отзывы без поля недостатков и отрицательные без достоинств, получим более однозначно окрашенный текст.\n",
    "## 3. Возьмем достоинства как положительные отзывы, недостатки как отрицательные."
   ]
  },
  {
   "cell_type": "code",
   "execution_count": 15,
   "id": "9d9dfc7f",
   "metadata": {},
   "outputs": [],
   "source": [
    "df['full_text'] = (df.pos + [' ']*len(df) + df.neg + [' ']*len(df) + df.komment)"
   ]
  },
  {
   "cell_type": "code",
   "execution_count": 16,
   "id": "059bddc3",
   "metadata": {
    "scrolled": true
   },
   "outputs": [],
   "source": [
    "df['sentiment_text'] = (df[df.target == 1].pos + [' ']*len(df[df.target == 1]) + df[df.target == 1].komment)\n",
    "df.loc[df.target == 0, 'sentiment_text'] = (df[df.target == 0].neg + \n",
    "                                            [' ']*len(df[df.target == 0]) + df[df.target == 0].komment)"
   ]
  },
  {
   "cell_type": "code",
   "execution_count": 17,
   "id": "1d7fe166",
   "metadata": {
    "scrolled": false
   },
   "outputs": [
    {
     "data": {
      "text/html": [
       "<div>\n",
       "<style scoped>\n",
       "    .dataframe tbody tr th:only-of-type {\n",
       "        vertical-align: middle;\n",
       "    }\n",
       "\n",
       "    .dataframe tbody tr th {\n",
       "        vertical-align: top;\n",
       "    }\n",
       "\n",
       "    .dataframe thead th {\n",
       "        text-align: right;\n",
       "    }\n",
       "</style>\n",
       "<table border=\"1\" class=\"dataframe\">\n",
       "  <thead>\n",
       "    <tr style=\"text-align: right;\">\n",
       "      <th></th>\n",
       "      <th>pos</th>\n",
       "      <th>neg</th>\n",
       "      <th>komment</th>\n",
       "      <th>result</th>\n",
       "      <th>target</th>\n",
       "      <th>full_text</th>\n",
       "      <th>sentiment_text</th>\n",
       "    </tr>\n",
       "  </thead>\n",
       "  <tbody>\n",
       "    <tr>\n",
       "      <th>0</th>\n",
       "      <td>Наклеена защитная пленка,чехол из коробки ,дов...</td>\n",
       "      <td>Предустановленные приложения производителя кот...</td>\n",
       "      <td>Полностью соответствует моим потребностям!Особ...</td>\n",
       "      <td>Отличный</td>\n",
       "      <td>1.0</td>\n",
       "      <td>Наклеена защитная пленка,чехол из коробки ,дов...</td>\n",
       "      <td>Наклеена защитная пленка,чехол из коробки ,дов...</td>\n",
       "    </tr>\n",
       "    <tr>\n",
       "      <th>1</th>\n",
       "      <td>1. Хороший дизайн2. Камера довольно высокого у...</td>\n",
       "      <td>Экран поддерживает только частоту в 60 Гц, в о...</td>\n",
       "      <td>В целом это лучший вариант на мой взгляд в дан...</td>\n",
       "      <td>Отличный</td>\n",
       "      <td>1.0</td>\n",
       "      <td>1. Хороший дизайн2. Камера довольно высокого у...</td>\n",
       "      <td>1. Хороший дизайн2. Камера довольно высокого у...</td>\n",
       "    </tr>\n",
       "    <tr>\n",
       "      <th>2</th>\n",
       "      <td>В целом хороший телефон. Просто мне не повезло.</td>\n",
       "      <td>Фронталка мутно фоткала. Сравнила с выставочны...</td>\n",
       "      <td>Заметила косяк фронтальной камеры. В отличие о...</td>\n",
       "      <td>Обычный</td>\n",
       "      <td>NaN</td>\n",
       "      <td>В целом хороший телефон. Просто мне не повезло...</td>\n",
       "      <td>NaN</td>\n",
       "    </tr>\n",
       "    <tr>\n",
       "      <th>3</th>\n",
       "      <td>Очень шустрый, с хорошим железом и камерами. П...</td>\n",
       "      <td></td>\n",
       "      <td>Однозначно рекомендую брать</td>\n",
       "      <td>Отличный</td>\n",
       "      <td>1.0</td>\n",
       "      <td>Очень шустрый, с хорошим железом и камерами. П...</td>\n",
       "      <td>Очень шустрый, с хорошим железом и камерами. П...</td>\n",
       "    </tr>\n",
       "    <tr>\n",
       "      <th>4</th>\n",
       "      <td>Долго держит батарею.Камера.Возможность встави...</td>\n",
       "      <td>Плохо снимает видео.Нужно привыкать к Амолед э...</td>\n",
       "      <td>С 2014 по 2017 пользовался только Сяоми, так к...</td>\n",
       "      <td>Хороший</td>\n",
       "      <td>1.0</td>\n",
       "      <td>Долго держит батарею.Камера.Возможность встави...</td>\n",
       "      <td>Долго держит батарею.Камера.Возможность встави...</td>\n",
       "    </tr>\n",
       "  </tbody>\n",
       "</table>\n",
       "</div>"
      ],
      "text/plain": [
       "                                                 pos  \\\n",
       "0  Наклеена защитная пленка,чехол из коробки ,дов...   \n",
       "1  1. Хороший дизайн2. Камера довольно высокого у...   \n",
       "2    В целом хороший телефон. Просто мне не повезло.   \n",
       "3  Очень шустрый, с хорошим железом и камерами. П...   \n",
       "4  Долго держит батарею.Камера.Возможность встави...   \n",
       "\n",
       "                                                 neg  \\\n",
       "0  Предустановленные приложения производителя кот...   \n",
       "1  Экран поддерживает только частоту в 60 Гц, в о...   \n",
       "2  Фронталка мутно фоткала. Сравнила с выставочны...   \n",
       "3                                                      \n",
       "4  Плохо снимает видео.Нужно привыкать к Амолед э...   \n",
       "\n",
       "                                             komment    result  target  \\\n",
       "0  Полностью соответствует моим потребностям!Особ...  Отличный     1.0   \n",
       "1  В целом это лучший вариант на мой взгляд в дан...  Отличный     1.0   \n",
       "2  Заметила косяк фронтальной камеры. В отличие о...   Обычный     NaN   \n",
       "3                        Однозначно рекомендую брать  Отличный     1.0   \n",
       "4  С 2014 по 2017 пользовался только Сяоми, так к...   Хороший     1.0   \n",
       "\n",
       "                                           full_text  \\\n",
       "0  Наклеена защитная пленка,чехол из коробки ,дов...   \n",
       "1  1. Хороший дизайн2. Камера довольно высокого у...   \n",
       "2  В целом хороший телефон. Просто мне не повезло...   \n",
       "3  Очень шустрый, с хорошим железом и камерами. П...   \n",
       "4  Долго держит батарею.Камера.Возможность встави...   \n",
       "\n",
       "                                      sentiment_text  \n",
       "0  Наклеена защитная пленка,чехол из коробки ,дов...  \n",
       "1  1. Хороший дизайн2. Камера довольно высокого у...  \n",
       "2                                                NaN  \n",
       "3  Очень шустрый, с хорошим железом и камерами. П...  \n",
       "4  Долго держит батарею.Камера.Возможность встави...  "
      ]
     },
     "execution_count": 17,
     "metadata": {},
     "output_type": "execute_result"
    }
   ],
   "source": [
    "df.head()"
   ]
  },
  {
   "cell_type": "markdown",
   "id": "d965d908",
   "metadata": {},
   "source": [
    "## Моделирование."
   ]
  },
  {
   "cell_type": "code",
   "execution_count": 18,
   "id": "ecc26a5e",
   "metadata": {},
   "outputs": [],
   "source": [
    "def make_pipeline(vectorizer, classifier):\n",
    "    return Pipeline([('vectorizer', vectorizer), ('classifier', classifier)])"
   ]
  },
  {
   "cell_type": "code",
   "execution_count": 19,
   "id": "889fc265",
   "metadata": {},
   "outputs": [],
   "source": [
    "def clf_results(X, y):\n",
    "    for key, clf in {'LinearSVC': LinearSVC, 'LogisticRegression': LogisticRegression,\n",
    "                    'RidgeClassifier': RidgeClassifier, 'SGDClassifier': SGDClassifier,\n",
    "                    'DecisionTreeClassifier': DecisionTreeClassifier, \n",
    "                    'GradientBoostingClassifier': GradientBoostingClassifier,\n",
    "                    'RandomForestClassifier': RandomForestClassifier}.items():\n",
    "        score = cross_val_score(make_pipeline(TfidfVectorizer(), clf(random_state=1)), X, y, cv=5).mean()\n",
    "        print(f\"{key} - {score}\")\n",
    "\n",
    "    for key, clf in {'MultinomialNB': MultinomialNB, 'BernoulliNB': BernoulliNB}.items():\n",
    "        score = cross_val_score(make_pipeline(TfidfVectorizer(), clf()), X, y, cv=5).mean()\n",
    "        print(f\"{key} - {score}\")  "
   ]
  },
  {
   "cell_type": "code",
   "execution_count": 20,
   "id": "347ca61a",
   "metadata": {},
   "outputs": [],
   "source": [
    "def make_predictions(clf, df, X_test):\n",
    "    try:\n",
    "        pipe = make_pipeline(TfidfVectorizer(), clf(random_state=1))\n",
    "    except:\n",
    "        pipe = make_pipeline(TfidfVectorizer(), clf())\n",
    "    pipe.fit(df.iloc[:, 0], df.iloc[:, 1])\n",
    "    res = pipe.predict(X_test)\n",
    "    return res"
   ]
  },
  {
   "cell_type": "code",
   "execution_count": 21,
   "id": "31943f26",
   "metadata": {},
   "outputs": [],
   "source": [
    "def save_predictions(preds):\n",
    "    res = pd.DataFrame(data=preds, columns=['y'])\n",
    "    res.index.name = 'Id'\n",
    "    res['y'] = res.y.map({0: 'neg', 1: 'pos'})\n",
    "    res.to_csv('res.csv')    "
   ]
  },
  {
   "cell_type": "markdown",
   "id": "e7261cb6",
   "metadata": {},
   "source": [
    "## Балансируем классы."
   ]
  },
  {
   "cell_type": "code",
   "execution_count": 22,
   "id": "1190a730",
   "metadata": {
    "scrolled": false
   },
   "outputs": [
    {
     "name": "stdout",
     "output_type": "stream",
     "text": [
      "Положительных: 1614 \n",
      "Отрицательных: 233\n"
     ]
    }
   ],
   "source": [
    "print('Положительных:', sum(df.target == 1),'\\nОтрицательных:' , sum(df.target == 0))"
   ]
  },
  {
   "cell_type": "code",
   "execution_count": 23,
   "id": "5fdb39f6",
   "metadata": {},
   "outputs": [],
   "source": [
    "random.seed(1)\n",
    "d = {'full_text': random.choices(list(df[df.target == 0].full_text), \n",
    "                                  k=(sum(df.target == 1) - sum(df.target == 0))), \n",
    "     'target': np.zeros(sum(df.target == 1) - sum(df.target == 0))}\n",
    "new_df = pd.DataFrame(data=d)"
   ]
  },
  {
   "cell_type": "code",
   "execution_count": 24,
   "id": "013c2d11",
   "metadata": {},
   "outputs": [
    {
     "data": {
      "text/plain": [
       "0.0    1614\n",
       "1.0    1614\n",
       "Name: target, dtype: int64"
      ]
     },
     "execution_count": 24,
     "metadata": {},
     "output_type": "execute_result"
    }
   ],
   "source": [
    "full_df = pd.concat([df[['full_text', 'target']].dropna(), new_df])\n",
    "full_df.target.value_counts()"
   ]
  },
  {
   "cell_type": "markdown",
   "id": "1a68b124",
   "metadata": {},
   "source": [
    "## Смотрим качество классификаторов с помощью кроссвалидации на собранной выборке и полном тексте отзывов."
   ]
  },
  {
   "cell_type": "code",
   "execution_count": 25,
   "id": "2a04f49b",
   "metadata": {
    "scrolled": true
   },
   "outputs": [
    {
     "name": "stdout",
     "output_type": "stream",
     "text": [
      "LinearSVC - 0.9745861233110137\n",
      "LogisticRegression - 0.9429692562459501\n",
      "RidgeClassifier - 0.9652876376988985\n",
      "SGDClassifier - 0.977375380996952\n",
      "DecisionTreeClassifier - 0.9284109727122182\n",
      "GradientBoostingClassifier - 0.8810089519283846\n",
      "RandomForestClassifier - 0.9872911416708666\n",
      "MultinomialNB - 0.8949494804041567\n",
      "BernoulliNB - 0.7948765209878321\n"
     ]
    }
   ],
   "source": [
    "clf_results(full_df.full_text, full_df.target)"
   ]
  },
  {
   "cell_type": "code",
   "execution_count": 26,
   "id": "413d581e",
   "metadata": {},
   "outputs": [],
   "source": [
    "save_predictions(make_predictions(RandomForestClassifier, full_df, data.komment))"
   ]
  },
  {
   "cell_type": "markdown",
   "id": "c991f8cf",
   "metadata": {},
   "source": [
    "## Получаем на каггле Score: 0.58888. Это намного хуже, чем на своей выборке.\n",
    "## Попробуем второй по accuracy классификатор."
   ]
  },
  {
   "cell_type": "code",
   "execution_count": 27,
   "id": "93851eee",
   "metadata": {},
   "outputs": [],
   "source": [
    "save_predictions(make_predictions(SGDClassifier, full_df, data.komment))"
   ]
  },
  {
   "cell_type": "markdown",
   "id": "94d3f136",
   "metadata": {},
   "source": [
    "## Score: 0.72222. Результат стал лучше, но все равно на других отзывах тональность предсказывается плохо, попробуем другую гипотезу."
   ]
  },
  {
   "cell_type": "markdown",
   "id": "d31096bf",
   "metadata": {},
   "source": [
    "## Балансируем классы."
   ]
  },
  {
   "cell_type": "code",
   "execution_count": 28,
   "id": "bf329612",
   "metadata": {},
   "outputs": [],
   "source": [
    "random.seed(1)\n",
    "d = {'sentiment_text': random.choices(list(df[df.target == 0].sentiment_text), \n",
    "                                  k=(sum(df.target == 1) - sum(df.target == 0))), \n",
    "     'target': np.zeros(sum(df.target == 1) - sum(df.target == 0))}\n",
    "new_df = pd.DataFrame(data=d)"
   ]
  },
  {
   "cell_type": "code",
   "execution_count": 29,
   "id": "b4b7f67b",
   "metadata": {},
   "outputs": [
    {
     "data": {
      "text/plain": [
       "0.0    1614\n",
       "1.0    1614\n",
       "Name: target, dtype: int64"
      ]
     },
     "execution_count": 29,
     "metadata": {},
     "output_type": "execute_result"
    }
   ],
   "source": [
    "sentiment_df = pd.concat([df[['sentiment_text', 'target']].dropna(), new_df])\n",
    "sentiment_df.target.value_counts()"
   ]
  },
  {
   "cell_type": "markdown",
   "id": "0803fba4",
   "metadata": {},
   "source": [
    "## Обучим классификаторы на однозначно окрашенном тексте."
   ]
  },
  {
   "cell_type": "code",
   "execution_count": 30,
   "id": "68163370",
   "metadata": {
    "scrolled": true
   },
   "outputs": [
    {
     "name": "stdout",
     "output_type": "stream",
     "text": [
      "LinearSVC - 0.9659130726954185\n",
      "LogisticRegression - 0.9398742410060719\n",
      "RidgeClassifier - 0.9618801449588403\n",
      "SGDClassifier - 0.9708695130438956\n",
      "DecisionTreeClassifier - 0.9206897544819641\n",
      "GradientBoostingClassifier - 0.8989852881176951\n",
      "RandomForestClassifier - 0.9686984904120768\n",
      "MultinomialNB - 0.9225252597979215\n",
      "BernoulliNB - 0.7945736434108527\n"
     ]
    }
   ],
   "source": [
    "clf_results(sentiment_df.sentiment_text, sentiment_df.target)"
   ]
  },
  {
   "cell_type": "code",
   "execution_count": 31,
   "id": "051e73f3",
   "metadata": {},
   "outputs": [],
   "source": [
    "save_predictions(make_predictions(SGDClassifier, sentiment_df, data.komment))"
   ]
  },
  {
   "cell_type": "markdown",
   "id": "d4e957b8",
   "metadata": {},
   "source": [
    "## Score: 0.82222. Качество еще улучшилось, попробуем третью гипотезу."
   ]
  },
  {
   "cell_type": "markdown",
   "id": "13ec5d92",
   "metadata": {},
   "source": [
    "## Балансируем классы."
   ]
  },
  {
   "cell_type": "code",
   "execution_count": 32,
   "id": "f1351f85",
   "metadata": {},
   "outputs": [],
   "source": [
    "df.replace('', np.nan, inplace=True)"
   ]
  },
  {
   "cell_type": "code",
   "execution_count": 33,
   "id": "c5d33572",
   "metadata": {},
   "outputs": [
    {
     "name": "stdout",
     "output_type": "stream",
     "text": [
      "Положительных: 1779 \n",
      "Отрицательных: 1095\n"
     ]
    }
   ],
   "source": [
    "print('Положительных:', len(df.pos.dropna()),'\\nОтрицательных:' , len(df.neg.dropna()))"
   ]
  },
  {
   "cell_type": "code",
   "execution_count": 34,
   "id": "48d412df",
   "metadata": {},
   "outputs": [],
   "source": [
    "d = {'pos_neg_text': pd.concat([df.pos.dropna(), df.neg.dropna()]), \n",
    "     'target': [1]*len(df.pos.dropna()) + [0]*len(df.neg.dropna())}\n",
    "etc_df = pd.DataFrame(data=d)"
   ]
  },
  {
   "cell_type": "code",
   "execution_count": 35,
   "id": "981214d7",
   "metadata": {},
   "outputs": [],
   "source": [
    "random.seed(1)\n",
    "d = {'pos_neg_text': random.choices(list(df.neg.dropna()), \n",
    "                                  k=(len(df.pos.dropna()) - len(df.neg.dropna()))), \n",
    "     'target': np.zeros(len(df.pos.dropna()) - len(df.neg.dropna()))}\n",
    "new_df = pd.DataFrame(data=d)"
   ]
  },
  {
   "cell_type": "code",
   "execution_count": 36,
   "id": "5ed43448",
   "metadata": {},
   "outputs": [
    {
     "data": {
      "text/plain": [
       "0.0    1779\n",
       "1.0    1779\n",
       "Name: target, dtype: int64"
      ]
     },
     "execution_count": 36,
     "metadata": {},
     "output_type": "execute_result"
    }
   ],
   "source": [
    "pos_neg_df = pd.concat([etc_df, new_df])\n",
    "pos_neg_df.target.value_counts()"
   ]
  },
  {
   "cell_type": "markdown",
   "id": "5808b316",
   "metadata": {},
   "source": [
    "## Обучим классификаторы на достоинстах и недостатках."
   ]
  },
  {
   "cell_type": "code",
   "execution_count": 37,
   "id": "443ac2d0",
   "metadata": {
    "scrolled": true
   },
   "outputs": [
    {
     "name": "stdout",
     "output_type": "stream",
     "text": [
      "LinearSVC - 0.9052880892555193\n",
      "LogisticRegression - 0.8839168602537967\n",
      "RidgeClassifier - 0.8979764218777161\n",
      "SGDClassifier - 0.9019188830417674\n",
      "DecisionTreeClassifier - 0.8636925362284487\n",
      "GradientBoostingClassifier - 0.8265842538598903\n",
      "RandomForestClassifier - 0.8870063528184705\n",
      "MultinomialNB - 0.8887000426681837\n",
      "BernoulliNB - 0.6987045465320249\n"
     ]
    }
   ],
   "source": [
    "clf_results(pos_neg_df.pos_neg_text, pos_neg_df.target)"
   ]
  },
  {
   "cell_type": "code",
   "execution_count": 38,
   "id": "0340b2d5",
   "metadata": {},
   "outputs": [],
   "source": [
    "save_predictions(make_predictions(SGDClassifier, pos_neg_df, data.komment))"
   ]
  },
  {
   "cell_type": "markdown",
   "id": "1a76b039",
   "metadata": {},
   "source": [
    "## Score: 0.92222. Результат уже удовлетворительный и не отличается от скора на тренировочной выборке."
   ]
  },
  {
   "cell_type": "code",
   "execution_count": null,
   "id": "44e30ded",
   "metadata": {},
   "outputs": [],
   "source": []
  }
 ],
 "metadata": {
  "kernelspec": {
   "display_name": "Python 3",
   "language": "python",
   "name": "python3"
  },
  "language_info": {
   "codemirror_mode": {
    "name": "ipython",
    "version": 3
   },
   "file_extension": ".py",
   "mimetype": "text/x-python",
   "name": "python",
   "nbconvert_exporter": "python",
   "pygments_lexer": "ipython3",
   "version": "3.8.8"
  }
 },
 "nbformat": 4,
 "nbformat_minor": 5
}
