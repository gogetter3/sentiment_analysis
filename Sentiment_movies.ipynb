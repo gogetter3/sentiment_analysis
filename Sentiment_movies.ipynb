{
 "cells": [
  {
   "cell_type": "code",
   "execution_count": 124,
   "metadata": {},
   "outputs": [],
   "source": [
    "import warnings\n",
    "import numpy as np\n",
    "import pandas as pd\n",
    "import nltk\n",
    "from nltk.corpus import movie_reviews\n",
    "from sklearn.model_selection import train_test_split\n",
    "from sklearn.feature_extraction.text import CountVectorizer, TfidfTransformer, TfidfVectorizer\n",
    "from nltk.corpus import stopwords\n",
    "from sklearn.linear_model import LogisticRegression, SGDClassifier, RidgeClassifier\n",
    "from sklearn.svm import LinearSVC\n",
    "from sklearn.model_selection import RandomizedSearchCV, cross_val_score, StratifiedKFold, train_test_split\n",
    "from sklearn.pipeline import Pipeline\n",
    "from sklearn.naive_bayes import MultinomialNB, BernoulliNB\n",
    "from sklearn.tree import DecisionTreeClassifier\n",
    "from sklearn.ensemble import RandomForestClassifier, GradientBoostingClassifier\n",
    "import lightgbm as lgb\n",
    "from sklearn.metrics import accuracy_score\n",
    "import matplotlib.pyplot as plt\n",
    "import seaborn as sns\n",
    "warnings.filterwarnings('ignore')\n",
    "%matplotlib inline"
   ]
  },
  {
   "cell_type": "markdown",
   "metadata": {},
   "source": [
    "## Загрузка данных"
   ]
  },
  {
   "cell_type": "code",
   "execution_count": 2,
   "metadata": {
    "scrolled": true
   },
   "outputs": [
    {
     "name": "stderr",
     "output_type": "stream",
     "text": [
      "[nltk_data] Downloading package movie_reviews to\n",
      "[nltk_data]     /Users/admin/nltk_data...\n",
      "[nltk_data]   Package movie_reviews is already up-to-date!\n"
     ]
    },
    {
     "data": {
      "text/plain": [
       "True"
      ]
     },
     "execution_count": 2,
     "metadata": {},
     "output_type": "execute_result"
    }
   ],
   "source": [
    "nltk.download('movie_reviews')"
   ]
  },
  {
   "cell_type": "code",
   "execution_count": 138,
   "metadata": {
    "scrolled": true
   },
   "outputs": [
    {
     "name": "stdout",
     "output_type": "stream",
     "text": [
      "Negative: 1000 Positive: 1000\n"
     ]
    }
   ],
   "source": [
    "negids = movie_reviews.fileids('neg')\n",
    "posids = movie_reviews.fileids('pos')\n",
    "negfeats = [' '.join(movie_reviews.words(fileids=[f])) for f in negids]\n",
    "posfeats = [' '.join(movie_reviews.words(fileids=[f])) for f in posids]\n",
    "print('Negative:', len(negfeats), 'Positive:', len(posfeats))"
   ]
  },
  {
   "cell_type": "code",
   "execution_count": 4,
   "metadata": {},
   "outputs": [],
   "source": [
    "reviews = negfeats + posfeats\n",
    "y = [0]*1000 + [1]*1000"
   ]
  },
  {
   "cell_type": "code",
   "execution_count": 5,
   "metadata": {},
   "outputs": [
    {
     "data": {
      "text/html": [
       "<div>\n",
       "<style scoped>\n",
       "    .dataframe tbody tr th:only-of-type {\n",
       "        vertical-align: middle;\n",
       "    }\n",
       "\n",
       "    .dataframe tbody tr th {\n",
       "        vertical-align: top;\n",
       "    }\n",
       "\n",
       "    .dataframe thead th {\n",
       "        text-align: right;\n",
       "    }\n",
       "</style>\n",
       "<table border=\"1\" class=\"dataframe\">\n",
       "  <thead>\n",
       "    <tr style=\"text-align: right;\">\n",
       "      <th></th>\n",
       "      <th>reviews</th>\n",
       "      <th>y</th>\n",
       "    </tr>\n",
       "  </thead>\n",
       "  <tbody>\n",
       "    <tr>\n",
       "      <th>0</th>\n",
       "      <td>plot : two teen couples go to a church party ,...</td>\n",
       "      <td>0</td>\n",
       "    </tr>\n",
       "    <tr>\n",
       "      <th>1</th>\n",
       "      <td>the happy bastard ' s quick movie review damn ...</td>\n",
       "      <td>0</td>\n",
       "    </tr>\n",
       "    <tr>\n",
       "      <th>2</th>\n",
       "      <td>it is movies like these that make a jaded movi...</td>\n",
       "      <td>0</td>\n",
       "    </tr>\n",
       "    <tr>\n",
       "      <th>3</th>\n",
       "      <td>\" quest for camelot \" is warner bros . ' first...</td>\n",
       "      <td>0</td>\n",
       "    </tr>\n",
       "    <tr>\n",
       "      <th>4</th>\n",
       "      <td>synopsis : a mentally unstable man undergoing ...</td>\n",
       "      <td>0</td>\n",
       "    </tr>\n",
       "    <tr>\n",
       "      <th>...</th>\n",
       "      <td>...</td>\n",
       "      <td>...</td>\n",
       "    </tr>\n",
       "    <tr>\n",
       "      <th>1995</th>\n",
       "      <td>wow ! what a movie . it ' s everything a movie...</td>\n",
       "      <td>1</td>\n",
       "    </tr>\n",
       "    <tr>\n",
       "      <th>1996</th>\n",
       "      <td>richard gere can be a commanding actor , but h...</td>\n",
       "      <td>1</td>\n",
       "    </tr>\n",
       "    <tr>\n",
       "      <th>1997</th>\n",
       "      <td>glory -- starring matthew broderick , denzel w...</td>\n",
       "      <td>1</td>\n",
       "    </tr>\n",
       "    <tr>\n",
       "      <th>1998</th>\n",
       "      <td>steven spielberg ' s second epic film on world...</td>\n",
       "      <td>1</td>\n",
       "    </tr>\n",
       "    <tr>\n",
       "      <th>1999</th>\n",
       "      <td>truman ( \" true - man \" ) burbank is the perfe...</td>\n",
       "      <td>1</td>\n",
       "    </tr>\n",
       "  </tbody>\n",
       "</table>\n",
       "<p>2000 rows × 2 columns</p>\n",
       "</div>"
      ],
      "text/plain": [
       "                                                reviews  y\n",
       "0     plot : two teen couples go to a church party ,...  0\n",
       "1     the happy bastard ' s quick movie review damn ...  0\n",
       "2     it is movies like these that make a jaded movi...  0\n",
       "3     \" quest for camelot \" is warner bros . ' first...  0\n",
       "4     synopsis : a mentally unstable man undergoing ...  0\n",
       "...                                                 ... ..\n",
       "1995  wow ! what a movie . it ' s everything a movie...  1\n",
       "1996  richard gere can be a commanding actor , but h...  1\n",
       "1997  glory -- starring matthew broderick , denzel w...  1\n",
       "1998  steven spielberg ' s second epic film on world...  1\n",
       "1999  truman ( \" true - man \" ) burbank is the perfe...  1\n",
       "\n",
       "[2000 rows x 2 columns]"
      ]
     },
     "execution_count": 5,
     "metadata": {},
     "output_type": "execute_result"
    }
   ],
   "source": [
    "data = pd.DataFrame({'reviews': reviews, 'y': y})\n",
    "data"
   ]
  },
  {
   "cell_type": "code",
   "execution_count": 6,
   "metadata": {},
   "outputs": [],
   "source": [
    "train, test = train_test_split(data, test_size=0.25, shuffle=True, random_state=5)"
   ]
  },
  {
   "cell_type": "markdown",
   "metadata": {},
   "source": [
    "## Описательный анализ данных"
   ]
  },
  {
   "cell_type": "code",
   "execution_count": 8,
   "metadata": {},
   "outputs": [
    {
     "data": {
      "image/png": "[encoded data removed]",
      "text/plain": [
       "<Figure size 720x576 with 1 Axes>"
      ]
     },
     "metadata": {
      "needs_background": "light"
     },
     "output_type": "display_data"
    }
   ],
   "source": [
    "df = train.copy()\n",
    "df['length'] = pd.cut(train.reviews.apply(lambda x: len(x)), bins=[0, 1500, 3000, 4500, float('inf')], \n",
    "       labels=['0-1500', '1500-3000', '3000-4500', '4500+'])\n",
    "\n",
    "fig = plt.figure(figsize=(10, 8))\n",
    "sns.countplot(x='length', hue='y', data=df);\n",
    "plt.title(\"Распределение длин отзывов\");\n",
    "plt.xlabel(\"Длина отзыва\");\n",
    "plt.ylabel(\"Количество отзывов\");"
   ]
  },
  {
   "cell_type": "code",
   "execution_count": 12,
   "metadata": {},
   "outputs": [
    {
     "name": "stdout",
     "output_type": "stream",
     "text": [
      "(1500, 35317)\n"
     ]
    }
   ],
   "source": [
    "vectorizer = CountVectorizer()\n",
    "token_matrix = vectorizer.fit_transform(train.reviews)\n",
    "print(token_matrix.shape)"
   ]
  },
  {
   "cell_type": "code",
   "execution_count": 14,
   "metadata": {},
   "outputs": [
    {
     "name": "stdout",
     "output_type": "stream",
     "text": [
      "(1500, 35317)\n"
     ]
    }
   ],
   "source": [
    "transformer = TfidfTransformer()\n",
    "frequency_counts = transformer.fit_transform(token_matrix)\n",
    "print(frequency_counts.shape)"
   ]
  },
  {
   "cell_type": "code",
   "execution_count": 16,
   "metadata": {},
   "outputs": [
    {
     "data": {
      "text/html": [
       "<div>\n",
       "<style scoped>\n",
       "    .dataframe tbody tr th:only-of-type {\n",
       "        vertical-align: middle;\n",
       "    }\n",
       "\n",
       "    .dataframe tbody tr th {\n",
       "        vertical-align: top;\n",
       "    }\n",
       "\n",
       "    .dataframe thead th {\n",
       "        text-align: right;\n",
       "    }\n",
       "</style>\n",
       "<table border=\"1\" class=\"dataframe\">\n",
       "  <thead>\n",
       "    <tr style=\"text-align: right;\">\n",
       "      <th></th>\n",
       "      <th>00</th>\n",
       "      <th>000</th>\n",
       "      <th>007</th>\n",
       "      <th>00s</th>\n",
       "      <th>03</th>\n",
       "      <th>04</th>\n",
       "      <th>05</th>\n",
       "      <th>05425</th>\n",
       "      <th>10</th>\n",
       "      <th>100</th>\n",
       "      <th>...</th>\n",
       "      <th>zucker</th>\n",
       "      <th>zuehlke</th>\n",
       "      <th>zuko</th>\n",
       "      <th>zukovsky</th>\n",
       "      <th>zulu</th>\n",
       "      <th>zurg</th>\n",
       "      <th>zus</th>\n",
       "      <th>zweibel</th>\n",
       "      <th>zwick</th>\n",
       "      <th>zwigoff</th>\n",
       "    </tr>\n",
       "  </thead>\n",
       "  <tbody>\n",
       "    <tr>\n",
       "      <th>0</th>\n",
       "      <td>0.0</td>\n",
       "      <td>0.0</td>\n",
       "      <td>0.0</td>\n",
       "      <td>0.0</td>\n",
       "      <td>0.0</td>\n",
       "      <td>0.0</td>\n",
       "      <td>0.0</td>\n",
       "      <td>0.0</td>\n",
       "      <td>0.0</td>\n",
       "      <td>0.000000</td>\n",
       "      <td>...</td>\n",
       "      <td>0.0</td>\n",
       "      <td>0.0</td>\n",
       "      <td>0.0</td>\n",
       "      <td>0.0</td>\n",
       "      <td>0.0</td>\n",
       "      <td>0.0</td>\n",
       "      <td>0.0</td>\n",
       "      <td>0.0</td>\n",
       "      <td>0.0</td>\n",
       "      <td>0.0</td>\n",
       "    </tr>\n",
       "    <tr>\n",
       "      <th>1</th>\n",
       "      <td>0.0</td>\n",
       "      <td>0.0</td>\n",
       "      <td>0.0</td>\n",
       "      <td>0.0</td>\n",
       "      <td>0.0</td>\n",
       "      <td>0.0</td>\n",
       "      <td>0.0</td>\n",
       "      <td>0.0</td>\n",
       "      <td>0.0</td>\n",
       "      <td>0.000000</td>\n",
       "      <td>...</td>\n",
       "      <td>0.0</td>\n",
       "      <td>0.0</td>\n",
       "      <td>0.0</td>\n",
       "      <td>0.0</td>\n",
       "      <td>0.0</td>\n",
       "      <td>0.0</td>\n",
       "      <td>0.0</td>\n",
       "      <td>0.0</td>\n",
       "      <td>0.0</td>\n",
       "      <td>0.0</td>\n",
       "    </tr>\n",
       "    <tr>\n",
       "      <th>2</th>\n",
       "      <td>0.0</td>\n",
       "      <td>0.0</td>\n",
       "      <td>0.0</td>\n",
       "      <td>0.0</td>\n",
       "      <td>0.0</td>\n",
       "      <td>0.0</td>\n",
       "      <td>0.0</td>\n",
       "      <td>0.0</td>\n",
       "      <td>0.0</td>\n",
       "      <td>0.018212</td>\n",
       "      <td>...</td>\n",
       "      <td>0.0</td>\n",
       "      <td>0.0</td>\n",
       "      <td>0.0</td>\n",
       "      <td>0.0</td>\n",
       "      <td>0.0</td>\n",
       "      <td>0.0</td>\n",
       "      <td>0.0</td>\n",
       "      <td>0.0</td>\n",
       "      <td>0.0</td>\n",
       "      <td>0.0</td>\n",
       "    </tr>\n",
       "    <tr>\n",
       "      <th>3</th>\n",
       "      <td>0.0</td>\n",
       "      <td>0.0</td>\n",
       "      <td>0.0</td>\n",
       "      <td>0.0</td>\n",
       "      <td>0.0</td>\n",
       "      <td>0.0</td>\n",
       "      <td>0.0</td>\n",
       "      <td>0.0</td>\n",
       "      <td>0.0</td>\n",
       "      <td>0.000000</td>\n",
       "      <td>...</td>\n",
       "      <td>0.0</td>\n",
       "      <td>0.0</td>\n",
       "      <td>0.0</td>\n",
       "      <td>0.0</td>\n",
       "      <td>0.0</td>\n",
       "      <td>0.0</td>\n",
       "      <td>0.0</td>\n",
       "      <td>0.0</td>\n",
       "      <td>0.0</td>\n",
       "      <td>0.0</td>\n",
       "    </tr>\n",
       "    <tr>\n",
       "      <th>4</th>\n",
       "      <td>0.0</td>\n",
       "      <td>0.0</td>\n",
       "      <td>0.0</td>\n",
       "      <td>0.0</td>\n",
       "      <td>0.0</td>\n",
       "      <td>0.0</td>\n",
       "      <td>0.0</td>\n",
       "      <td>0.0</td>\n",
       "      <td>0.0</td>\n",
       "      <td>0.000000</td>\n",
       "      <td>...</td>\n",
       "      <td>0.0</td>\n",
       "      <td>0.0</td>\n",
       "      <td>0.0</td>\n",
       "      <td>0.0</td>\n",
       "      <td>0.0</td>\n",
       "      <td>0.0</td>\n",
       "      <td>0.0</td>\n",
       "      <td>0.0</td>\n",
       "      <td>0.0</td>\n",
       "      <td>0.0</td>\n",
       "    </tr>\n",
       "    <tr>\n",
       "      <th>...</th>\n",
       "      <td>...</td>\n",
       "      <td>...</td>\n",
       "      <td>...</td>\n",
       "      <td>...</td>\n",
       "      <td>...</td>\n",
       "      <td>...</td>\n",
       "      <td>...</td>\n",
       "      <td>...</td>\n",
       "      <td>...</td>\n",
       "      <td>...</td>\n",
       "      <td>...</td>\n",
       "      <td>...</td>\n",
       "      <td>...</td>\n",
       "      <td>...</td>\n",
       "      <td>...</td>\n",
       "      <td>...</td>\n",
       "      <td>...</td>\n",
       "      <td>...</td>\n",
       "      <td>...</td>\n",
       "      <td>...</td>\n",
       "      <td>...</td>\n",
       "    </tr>\n",
       "    <tr>\n",
       "      <th>1495</th>\n",
       "      <td>0.0</td>\n",
       "      <td>0.0</td>\n",
       "      <td>0.0</td>\n",
       "      <td>0.0</td>\n",
       "      <td>0.0</td>\n",
       "      <td>0.0</td>\n",
       "      <td>0.0</td>\n",
       "      <td>0.0</td>\n",
       "      <td>0.0</td>\n",
       "      <td>0.030156</td>\n",
       "      <td>...</td>\n",
       "      <td>0.0</td>\n",
       "      <td>0.0</td>\n",
       "      <td>0.0</td>\n",
       "      <td>0.0</td>\n",
       "      <td>0.0</td>\n",
       "      <td>0.0</td>\n",
       "      <td>0.0</td>\n",
       "      <td>0.0</td>\n",
       "      <td>0.0</td>\n",
       "      <td>0.0</td>\n",
       "    </tr>\n",
       "    <tr>\n",
       "      <th>1496</th>\n",
       "      <td>0.0</td>\n",
       "      <td>0.0</td>\n",
       "      <td>0.0</td>\n",
       "      <td>0.0</td>\n",
       "      <td>0.0</td>\n",
       "      <td>0.0</td>\n",
       "      <td>0.0</td>\n",
       "      <td>0.0</td>\n",
       "      <td>0.0</td>\n",
       "      <td>0.000000</td>\n",
       "      <td>...</td>\n",
       "      <td>0.0</td>\n",
       "      <td>0.0</td>\n",
       "      <td>0.0</td>\n",
       "      <td>0.0</td>\n",
       "      <td>0.0</td>\n",
       "      <td>0.0</td>\n",
       "      <td>0.0</td>\n",
       "      <td>0.0</td>\n",
       "      <td>0.0</td>\n",
       "      <td>0.0</td>\n",
       "    </tr>\n",
       "    <tr>\n",
       "      <th>1497</th>\n",
       "      <td>0.0</td>\n",
       "      <td>0.0</td>\n",
       "      <td>0.0</td>\n",
       "      <td>0.0</td>\n",
       "      <td>0.0</td>\n",
       "      <td>0.0</td>\n",
       "      <td>0.0</td>\n",
       "      <td>0.0</td>\n",
       "      <td>0.0</td>\n",
       "      <td>0.000000</td>\n",
       "      <td>...</td>\n",
       "      <td>0.0</td>\n",
       "      <td>0.0</td>\n",
       "      <td>0.0</td>\n",
       "      <td>0.0</td>\n",
       "      <td>0.0</td>\n",
       "      <td>0.0</td>\n",
       "      <td>0.0</td>\n",
       "      <td>0.0</td>\n",
       "      <td>0.0</td>\n",
       "      <td>0.0</td>\n",
       "    </tr>\n",
       "    <tr>\n",
       "      <th>1498</th>\n",
       "      <td>0.0</td>\n",
       "      <td>0.0</td>\n",
       "      <td>0.0</td>\n",
       "      <td>0.0</td>\n",
       "      <td>0.0</td>\n",
       "      <td>0.0</td>\n",
       "      <td>0.0</td>\n",
       "      <td>0.0</td>\n",
       "      <td>0.0</td>\n",
       "      <td>0.000000</td>\n",
       "      <td>...</td>\n",
       "      <td>0.0</td>\n",
       "      <td>0.0</td>\n",
       "      <td>0.0</td>\n",
       "      <td>0.0</td>\n",
       "      <td>0.0</td>\n",
       "      <td>0.0</td>\n",
       "      <td>0.0</td>\n",
       "      <td>0.0</td>\n",
       "      <td>0.0</td>\n",
       "      <td>0.0</td>\n",
       "    </tr>\n",
       "    <tr>\n",
       "      <th>1499</th>\n",
       "      <td>0.0</td>\n",
       "      <td>0.0</td>\n",
       "      <td>0.0</td>\n",
       "      <td>0.0</td>\n",
       "      <td>0.0</td>\n",
       "      <td>0.0</td>\n",
       "      <td>0.0</td>\n",
       "      <td>0.0</td>\n",
       "      <td>0.0</td>\n",
       "      <td>0.000000</td>\n",
       "      <td>...</td>\n",
       "      <td>0.0</td>\n",
       "      <td>0.0</td>\n",
       "      <td>0.0</td>\n",
       "      <td>0.0</td>\n",
       "      <td>0.0</td>\n",
       "      <td>0.0</td>\n",
       "      <td>0.0</td>\n",
       "      <td>0.0</td>\n",
       "      <td>0.0</td>\n",
       "      <td>0.0</td>\n",
       "    </tr>\n",
       "  </tbody>\n",
       "</table>\n",
       "<p>1500 rows × 35317 columns</p>\n",
       "</div>"
      ],
      "text/plain": [
       "       00  000  007  00s   03   04   05  05425   10       100  ...  zucker  \\\n",
       "0     0.0  0.0  0.0  0.0  0.0  0.0  0.0    0.0  0.0  0.000000  ...     0.0   \n",
       "1     0.0  0.0  0.0  0.0  0.0  0.0  0.0    0.0  0.0  0.000000  ...     0.0   \n",
       "2     0.0  0.0  0.0  0.0  0.0  0.0  0.0    0.0  0.0  0.018212  ...     0.0   \n",
       "3     0.0  0.0  0.0  0.0  0.0  0.0  0.0    0.0  0.0  0.000000  ...     0.0   \n",
       "4     0.0  0.0  0.0  0.0  0.0  0.0  0.0    0.0  0.0  0.000000  ...     0.0   \n",
       "...   ...  ...  ...  ...  ...  ...  ...    ...  ...       ...  ...     ...   \n",
       "1495  0.0  0.0  0.0  0.0  0.0  0.0  0.0    0.0  0.0  0.030156  ...     0.0   \n",
       "1496  0.0  0.0  0.0  0.0  0.0  0.0  0.0    0.0  0.0  0.000000  ...     0.0   \n",
       "1497  0.0  0.0  0.0  0.0  0.0  0.0  0.0    0.0  0.0  0.000000  ...     0.0   \n",
       "1498  0.0  0.0  0.0  0.0  0.0  0.0  0.0    0.0  0.0  0.000000  ...     0.0   \n",
       "1499  0.0  0.0  0.0  0.0  0.0  0.0  0.0    0.0  0.0  0.000000  ...     0.0   \n",
       "\n",
       "      zuehlke  zuko  zukovsky  zulu  zurg  zus  zweibel  zwick  zwigoff  \n",
       "0         0.0   0.0       0.0   0.0   0.0  0.0      0.0    0.0      0.0  \n",
       "1         0.0   0.0       0.0   0.0   0.0  0.0      0.0    0.0      0.0  \n",
       "2         0.0   0.0       0.0   0.0   0.0  0.0      0.0    0.0      0.0  \n",
       "3         0.0   0.0       0.0   0.0   0.0  0.0      0.0    0.0      0.0  \n",
       "4         0.0   0.0       0.0   0.0   0.0  0.0      0.0    0.0      0.0  \n",
       "...       ...   ...       ...   ...   ...  ...      ...    ...      ...  \n",
       "1495      0.0   0.0       0.0   0.0   0.0  0.0      0.0    0.0      0.0  \n",
       "1496      0.0   0.0       0.0   0.0   0.0  0.0      0.0    0.0      0.0  \n",
       "1497      0.0   0.0       0.0   0.0   0.0  0.0      0.0    0.0      0.0  \n",
       "1498      0.0   0.0       0.0   0.0   0.0  0.0      0.0    0.0      0.0  \n",
       "1499      0.0   0.0       0.0   0.0   0.0  0.0      0.0    0.0      0.0  \n",
       "\n",
       "[1500 rows x 35317 columns]"
      ]
     },
     "execution_count": 16,
     "metadata": {},
     "output_type": "execute_result"
    }
   ],
   "source": [
    "pd.DataFrame(frequency_counts.A, columns=vectorizer.get_feature_names())"
   ]
  },
  {
   "cell_type": "markdown",
   "metadata": {},
   "source": [
    "## Моделирование"
   ]
  },
  {
   "cell_type": "markdown",
   "metadata": {},
   "source": [
    "Классы целевой переменной сбалансированы"
   ]
  },
  {
   "cell_type": "code",
   "execution_count": 21,
   "metadata": {},
   "outputs": [],
   "source": [
    "X = train.reviews.values\n",
    "y = train.y.values"
   ]
  },
  {
   "cell_type": "code",
   "execution_count": 23,
   "metadata": {},
   "outputs": [
    {
     "name": "stderr",
     "output_type": "stream",
     "text": [
      "[nltk_data] Downloading package stopwords to /Users/admin/nltk_data...\n",
      "[nltk_data]   Unzipping corpora/stopwords.zip.\n"
     ]
    }
   ],
   "source": [
    "nltk.download('stopwords')\n",
    "stop_words =  stopwords.words('english')"
   ]
  },
  {
   "cell_type": "code",
   "execution_count": 73,
   "metadata": {},
   "outputs": [],
   "source": [
    "params_grid_vectorizer = {\n",
    "    'vectorizer__ngram_range' : [(1, 1), (1, 2), (1, 3), (1, 4)],\n",
    "    'vectorizer__stop_words' : [stop_words, 'english', None],\n",
    "    'vectorizer__max_df' : [0.8, 0.9, 0.95, 1.0],\n",
    "    'vectorizer__min_df' : [1, 10, 20] \n",
    "}"
   ]
  },
  {
   "cell_type": "code",
   "execution_count": 26,
   "metadata": {},
   "outputs": [],
   "source": [
    "def make_pipeline(vectorizer, transformer, classifier):\n",
    "    return Pipeline([\n",
    "            ('vectorizer', vectorizer),\n",
    "            ('transformer', transformer),\n",
    "            ('classifier', classifier)\n",
    "        ])"
   ]
  },
  {
   "cell_type": "code",
   "execution_count": 70,
   "metadata": {},
   "outputs": [],
   "source": [
    "def make_estimator(classifier, params_grid, scorer, data, labels):\n",
    "    pipeline = make_pipeline(CountVectorizer(), TfidfTransformer(), classifier)\n",
    "    grid_cv = RandomizedSearchCV(pipeline, params_grid, scoring=scorer, cv=5, random_state=5)\n",
    "    grid_cv.fit(data, labels)\n",
    "    return grid_cv"
   ]
  },
  {
   "cell_type": "markdown",
   "metadata": {},
   "source": [
    "### Линейные классификаторы"
   ]
  },
  {
   "cell_type": "code",
   "execution_count": 74,
   "metadata": {
    "scrolled": true
   },
   "outputs": [
    {
     "name": "stdout",
     "output_type": "stream",
     "text": [
      "LinearSVC - 0.8240000000000001\n",
      "LogisticRegression - 0.796\n",
      "RidgeClassifier - 0.8140000000000001\n",
      "SGDClassifier - 0.8273333333333334\n",
      "CPU times: user 24.1 s, sys: 5.49 s, total: 29.6 s\n",
      "Wall time: 12.5 s\n"
     ]
    }
   ],
   "source": [
    "%%time\n",
    "for key, clf in {'LinearSVC': LinearSVC, 'LogisticRegression': LogisticRegression,\n",
    "                'RidgeClassifier': RidgeClassifier, 'SGDClassifier': SGDClassifier}.items():\n",
    "    score = cross_val_score(make_pipeline(CountVectorizer(), TfidfTransformer(), clf(random_state=5)), X, y, cv=5).mean()\n",
    "    print(f\"{key} - {score}\")"
   ]
  },
  {
   "cell_type": "markdown",
   "metadata": {},
   "source": [
    "#### Настройка параметров"
   ]
  },
  {
   "cell_type": "code",
   "execution_count": 75,
   "metadata": {},
   "outputs": [],
   "source": [
    "params_grid_lsvc = {\n",
    "    'classifier__loss': ['hinge', 'squared_hinge'], \n",
    "    'classifier__tol': [1e-5, 1e-4, 1e-3],\n",
    "    'classifier__max_iter': np.arange(100, 500, 100),\n",
    "    'classifier__C': np.arange(0.1, 2, 0.2)\n",
    "}\n",
    "\n",
    "params_grid_lr = {\n",
    "    \n",
    "    'classifier__max_iter': np.arange(50, 600, 100),\n",
    "    'classifier__solver': ['lbfgs', 'liblinear', 'sag'],\n",
    "    'classifier__C': np.arange(0.1, 2, 0.2)\n",
    "}\n",
    "    \n",
    "params_grid_rc = {\n",
    "    'classifier__normalize': [True, False], \n",
    "    'classifier__tol': np.arange(1e-4, 1e-2, 1e-3),\n",
    "    'classifier__solver': ['auto', 'svd', 'lsqr', 'sparse_cg'],\n",
    "    'classifier__alpha': np.arange(0.1, 4, 0.2)\n",
    "}\n",
    "    \n",
    "params_grid_sgdc = {\n",
    "    'classifier__max_iter': np.arange(100, 1000, 100),\n",
    "    'classifier__loss': ['log', 'hinge', 'modified_huber'], \n",
    "    'classifier__tol': np.arange(1e-5, 1e-3, 1e-4),\n",
    "    'classifier__penalty':  ['l1', 'l2']\n",
    "}\n"
   ]
  },
  {
   "cell_type": "code",
   "execution_count": 76,
   "metadata": {
    "scrolled": true
   },
   "outputs": [
    {
     "name": "stdout",
     "output_type": "stream",
     "text": [
      "LinearSVC:\n",
      "best quality - 0.8453333333333335\n",
      "params - {'vectorizer__stop_words': ['i', 'me', 'my', 'myself', 'we', 'our', 'ours', 'ourselves', 'you', \"you're\", \"you've\", \"you'll\", \"you'd\", 'your', 'yours', 'yourself', 'yourselves', 'he', 'him', 'his', 'himself', 'she', \"she's\", 'her', 'hers', 'herself', 'it', \"it's\", 'its', 'itself', 'they', 'them', 'their', 'theirs', 'themselves', 'what', 'which', 'who', 'whom', 'this', 'that', \"that'll\", 'these', 'those', 'am', 'is', 'are', 'was', 'were', 'be', 'been', 'being', 'have', 'has', 'had', 'having', 'do', 'does', 'did', 'doing', 'a', 'an', 'the', 'and', 'but', 'if', 'or', 'because', 'as', 'until', 'while', 'of', 'at', 'by', 'for', 'with', 'about', 'against', 'between', 'into', 'through', 'during', 'before', 'after', 'above', 'below', 'to', 'from', 'up', 'down', 'in', 'out', 'on', 'off', 'over', 'under', 'again', 'further', 'then', 'once', 'here', 'there', 'when', 'where', 'why', 'how', 'all', 'any', 'both', 'each', 'few', 'more', 'most', 'other', 'some', 'such', 'no', 'nor', 'not', 'only', 'own', 'same', 'so', 'than', 'too', 'very', 's', 't', 'can', 'will', 'just', 'don', \"don't\", 'should', \"should've\", 'now', 'd', 'll', 'm', 'o', 're', 've', 'y', 'ain', 'aren', \"aren't\", 'couldn', \"couldn't\", 'didn', \"didn't\", 'doesn', \"doesn't\", 'hadn', \"hadn't\", 'hasn', \"hasn't\", 'haven', \"haven't\", 'isn', \"isn't\", 'ma', 'mightn', \"mightn't\", 'mustn', \"mustn't\", 'needn', \"needn't\", 'shan', \"shan't\", 'shouldn', \"shouldn't\", 'wasn', \"wasn't\", 'weren', \"weren't\", 'won', \"won't\", 'wouldn', \"wouldn't\"], 'vectorizer__ngram_range': (1, 2), 'vectorizer__min_df': 10, 'vectorizer__max_df': 0.8, 'classifier__tol': 0.0001, 'classifier__max_iter': 400, 'classifier__loss': 'squared_hinge', 'classifier__C': 1.1000000000000003}\n",
      "CPU times: user 1min 28s, sys: 1.4 s, total: 1min 29s\n",
      "Wall time: 1min 30s\n"
     ]
    }
   ],
   "source": [
    "%%time\n",
    "grid_search_lsvc = make_estimator(LinearSVC(random_state=5), \n",
    "                                  {**params_grid_vectorizer, **params_grid_lsvc}, 'accuracy', X, y)\n",
    "print(\"LinearSVC:\")\n",
    "print(f\"best quality - {grid_search_lsvc.best_score_}\")\n",
    "print(f\"params - {grid_search_lsvc.best_params_}\")"
   ]
  },
  {
   "cell_type": "code",
   "execution_count": 77,
   "metadata": {},
   "outputs": [
    {
     "name": "stdout",
     "output_type": "stream",
     "text": [
      "LogisticRegression:\n",
      "best quality - 0.8320000000000001\n",
      "params - {'vectorizer__stop_words': ['i', 'me', 'my', 'myself', 'we', 'our', 'ours', 'ourselves', 'you', \"you're\", \"you've\", \"you'll\", \"you'd\", 'your', 'yours', 'yourself', 'yourselves', 'he', 'him', 'his', 'himself', 'she', \"she's\", 'her', 'hers', 'herself', 'it', \"it's\", 'its', 'itself', 'they', 'them', 'their', 'theirs', 'themselves', 'what', 'which', 'who', 'whom', 'this', 'that', \"that'll\", 'these', 'those', 'am', 'is', 'are', 'was', 'were', 'be', 'been', 'being', 'have', 'has', 'had', 'having', 'do', 'does', 'did', 'doing', 'a', 'an', 'the', 'and', 'but', 'if', 'or', 'because', 'as', 'until', 'while', 'of', 'at', 'by', 'for', 'with', 'about', 'against', 'between', 'into', 'through', 'during', 'before', 'after', 'above', 'below', 'to', 'from', 'up', 'down', 'in', 'out', 'on', 'off', 'over', 'under', 'again', 'further', 'then', 'once', 'here', 'there', 'when', 'where', 'why', 'how', 'all', 'any', 'both', 'each', 'few', 'more', 'most', 'other', 'some', 'such', 'no', 'nor', 'not', 'only', 'own', 'same', 'so', 'than', 'too', 'very', 's', 't', 'can', 'will', 'just', 'don', \"don't\", 'should', \"should've\", 'now', 'd', 'll', 'm', 'o', 're', 've', 'y', 'ain', 'aren', \"aren't\", 'couldn', \"couldn't\", 'didn', \"didn't\", 'doesn', \"doesn't\", 'hadn', \"hadn't\", 'hasn', \"hasn't\", 'haven', \"haven't\", 'isn', \"isn't\", 'ma', 'mightn', \"mightn't\", 'mustn', \"mustn't\", 'needn', \"needn't\", 'shan', \"shan't\", 'shouldn', \"shouldn't\", 'wasn', \"wasn't\", 'weren', \"weren't\", 'won', \"won't\", 'wouldn', \"wouldn't\"], 'vectorizer__ngram_range': (1, 3), 'vectorizer__min_df': 10, 'vectorizer__max_df': 0.9, 'classifier__solver': 'sag', 'classifier__max_iter': 50, 'classifier__C': 1.9000000000000004}\n",
      "CPU times: user 2min 42s, sys: 18.6 s, total: 3min\n",
      "Wall time: 1min 59s\n"
     ]
    }
   ],
   "source": [
    "%%time\n",
    "grid_search_lr = make_estimator(LogisticRegression(random_state=5), \n",
    "                                {**params_grid_vectorizer, **params_grid_lr}, 'accuracy', X, y)\n",
    "print(\"LogisticRegression:\")\n",
    "print(f\"best quality - {grid_search_lr.best_score_}\")\n",
    "print(f\"params - {grid_search_lr.best_params_}\")"
   ]
  },
  {
   "cell_type": "code",
   "execution_count": 78,
   "metadata": {},
   "outputs": [
    {
     "name": "stdout",
     "output_type": "stream",
     "text": [
      "RidgeClassifier:\n",
      "best quality - 0.8506666666666666\n",
      "params - {'vectorizer__stop_words': None, 'vectorizer__ngram_range': (1, 4), 'vectorizer__min_df': 10, 'vectorizer__max_df': 0.8, 'classifier__tol': 0.0071, 'classifier__solver': 'sparse_cg', 'classifier__normalize': True, 'classifier__alpha': 3.7000000000000006}\n",
      "CPU times: user 2min 7s, sys: 7.87 s, total: 2min 15s\n",
      "Wall time: 1min 52s\n"
     ]
    }
   ],
   "source": [
    "%%time\n",
    "grid_search_rc = make_estimator(RidgeClassifier(random_state=5), \n",
    "                                {**params_grid_vectorizer, **params_grid_rc}, 'accuracy', X, y)\n",
    "print(\"RidgeClassifier:\")\n",
    "print(f\"best quality - {grid_search_rc.best_score_}\")\n",
    "print(f\"params - {grid_search_rc.best_params_}\")"
   ]
  },
  {
   "cell_type": "code",
   "execution_count": 79,
   "metadata": {},
   "outputs": [
    {
     "name": "stdout",
     "output_type": "stream",
     "text": [
      "SGDClassifier:\n",
      "best quality - 0.8393333333333335\n",
      "params - {'vectorizer__stop_words': None, 'vectorizer__ngram_range': (1, 3), 'vectorizer__min_df': 10, 'vectorizer__max_df': 1.0, 'classifier__tol': 0.0009100000000000001, 'classifier__penalty': 'l2', 'classifier__max_iter': 900, 'classifier__loss': 'hinge'}\n",
      "CPU times: user 2min 9s, sys: 11.7 s, total: 2min 21s\n",
      "Wall time: 1min 38s\n"
     ]
    }
   ],
   "source": [
    "%%time\n",
    "grid_search_sgdc = make_estimator(SGDClassifier(random_state=5), \n",
    "                                  {**params_grid_vectorizer, **params_grid_sgdc}, 'accuracy', X, y)\n",
    "print(\"SGDClassifier:\")\n",
    "print(f\"best quality - {grid_search_sgdc.best_score_}\")\n",
    "print(f\"params - {grid_search_sgdc.best_params_}\")"
   ]
  },
  {
   "cell_type": "code",
   "execution_count": 84,
   "metadata": {},
   "outputs": [
    {
     "name": "stdout",
     "output_type": "stream",
     "text": [
      "best model - RidgeClassifier\n",
      "best quality - 0.8506666666666666\n",
      "params - {'vectorizer__stop_words': None, 'vectorizer__ngram_range': (1, 4), 'vectorizer__min_df': 10, 'vectorizer__max_df': 0.8, 'classifier__tol': 0.0071, 'classifier__solver': 'sparse_cg', 'classifier__normalize': True, 'classifier__alpha': 3.7000000000000006}\n"
     ]
    }
   ],
   "source": [
    "results_linear = {\n",
    "                  'LinearSVC': (grid_search_lsvc.best_score_, grid_search_lsvc.best_params_),\n",
    "                  'LogisticRegression': (grid_search_lr.best_score_, grid_search_lr.best_params_),\n",
    "                  'RidgeClassifier': (grid_search_rc.best_score_, grid_search_rc.best_params_),\n",
    "                  'SGDClassifier': (grid_search_sgdc.best_score_, grid_search_sgdc.best_params_)\n",
    "                  }\n",
    "print(f\"best model - {max(results_linear, key=results_linear.get)}\")\n",
    "print(f\"best quality - {max(results_linear.values())[0]}\")\n",
    "print(f\"params - {max(results_linear.values())[1]}\")"
   ]
  },
  {
   "cell_type": "markdown",
   "metadata": {},
   "source": [
    "### Байесовские классификаторы"
   ]
  },
  {
   "cell_type": "code",
   "execution_count": 86,
   "metadata": {
    "scrolled": true
   },
   "outputs": [
    {
     "name": "stdout",
     "output_type": "stream",
     "text": [
      "BernoulliNB - 0.7873333333333332\n",
      "CPU times: user 5.22 s, sys: 54.9 ms, total: 5.27 s\n",
      "Wall time: 5.28 s\n"
     ]
    }
   ],
   "source": [
    "%%time\n",
    "for key, clf in {'MultinomialNB': MultinomialNB, 'BernoulliNB': BernoulliNB}.items():\n",
    "    score = cross_val_score(make_pipeline(CountVectorizer(), TfidfTransformer(), clf()), X, y, cv=5).mean()\n",
    "print(f\"{key} - {score}\")"
   ]
  },
  {
   "cell_type": "markdown",
   "metadata": {},
   "source": [
    "#### Настройка параметров"
   ]
  },
  {
   "cell_type": "code",
   "execution_count": 87,
   "metadata": {},
   "outputs": [],
   "source": [
    "params_grid_bnb = {\n",
    "    'classifier__fit_prior': [True, False],\n",
    "    'classifier__alpha': np.logspace(0, 5, 30)\n",
    "}\n",
    "params_grid_mnb = { \n",
    "    'classifier__fit_prior': [True, False],\n",
    "    'classifier__alpha': np.logspace(0, 5, 30)\n",
    "}\n"
   ]
  },
  {
   "cell_type": "code",
   "execution_count": 90,
   "metadata": {},
   "outputs": [
    {
     "name": "stdout",
     "output_type": "stream",
     "text": [
      "BernoulliNB:\n",
      "best quality - 0.8113333333333334\n",
      "params - {'vectorizer__stop_words': None, 'vectorizer__ngram_range': (1, 3), 'vectorizer__min_df': 10, 'vectorizer__max_df': 0.8, 'classifier__fit_prior': False, 'classifier__alpha': 2.2122162910704493}\n",
      "CPU times: user 2min 4s, sys: 2.44 s, total: 2min 7s\n",
      "Wall time: 2min 7s\n"
     ]
    }
   ],
   "source": [
    "%%time\n",
    "grid_search_bnb = make_estimator(BernoulliNB(), \n",
    "                                {**params_grid_vectorizer, **params_grid_bnb}, 'accuracy', X, y)\n",
    "print(\"BernoulliNB:\")\n",
    "print(f\"best quality - {grid_search_bnb.best_score_}\")\n",
    "print(f\"params - {grid_search_bnb.best_params_}\")"
   ]
  },
  {
   "cell_type": "code",
   "execution_count": 88,
   "metadata": {},
   "outputs": [
    {
     "name": "stdout",
     "output_type": "stream",
     "text": [
      "MultinomialNB:\n",
      "best quality - 0.8133333333333332\n",
      "params - {'vectorizer__stop_words': None, 'vectorizer__ngram_range': (1, 3), 'vectorizer__min_df': 10, 'vectorizer__max_df': 0.8, 'classifier__fit_prior': False, 'classifier__alpha': 2.2122162910704493}\n",
      "CPU times: user 2min 4s, sys: 2.46 s, total: 2min 7s\n",
      "Wall time: 2min 7s\n"
     ]
    }
   ],
   "source": [
    "%%time\n",
    "grid_search_mnb = make_estimator(MultinomialNB(), \n",
    "                                {**params_grid_vectorizer, **params_grid_mnb}, 'accuracy', X, y)\n",
    "print(\"MultinomialNB:\")\n",
    "print(f\"best quality - {grid_search_mnb.best_score_}\")\n",
    "print(f\"params - {grid_search_mnb.best_params_}\")"
   ]
  },
  {
   "cell_type": "code",
   "execution_count": 93,
   "metadata": {},
   "outputs": [
    {
     "name": "stdout",
     "output_type": "stream",
     "text": [
      "best model - MultinomialNB\n",
      "best quality - 0.8133333333333332\n",
      "params - {'vectorizer__stop_words': None, 'vectorizer__ngram_range': (1, 3), 'vectorizer__min_df': 10, 'vectorizer__max_df': 0.8, 'classifier__fit_prior': False, 'classifier__alpha': 2.2122162910704493}\n"
     ]
    }
   ],
   "source": [
    "results_bayes = {'BernoulliNB': (grid_search_bnb.best_score_, grid_search_bnb.best_params_),\n",
    "                 'MultinomialNB': (grid_search_mnb.best_score_, grid_search_mnb.best_params_)\n",
    "                 }\n",
    "print(f\"best model - {max(results_bayes, key=results_bayes.get)}\")\n",
    "print(f\"best quality - {max(results_bayes.values())[0]}\")\n",
    "print(f\"params - {max(results_bayes.values())[1]}\")"
   ]
  },
  {
   "cell_type": "markdown",
   "metadata": {},
   "source": [
    "### Решающие деревья"
   ]
  },
  {
   "cell_type": "code",
   "execution_count": 96,
   "metadata": {},
   "outputs": [
    {
     "name": "stdout",
     "output_type": "stream",
     "text": [
      "DecisionTreeClassifier - 0.6446666666666666\n",
      "GradientBoostingClassifier - 0.7826666666666666\n",
      "RandomForestClassifier - 0.7746666666666667\n",
      "CPU times: user 51.8 s, sys: 239 ms, total: 52 s\n",
      "Wall time: 52 s\n"
     ]
    }
   ],
   "source": [
    "%%time\n",
    "for key, clf in {'DecisionTreeClassifier': DecisionTreeClassifier, 'GradientBoostingClassifier': GradientBoostingClassifier,\n",
    "                 'RandomForestClassifier': RandomForestClassifier}.items():\n",
    "    score = cross_val_score(make_pipeline(CountVectorizer(), TfidfTransformer(), clf(random_state=5)), X, y, cv=5).mean()\n",
    "    print(f\"{key} - {score}\")"
   ]
  },
  {
   "cell_type": "markdown",
   "metadata": {},
   "source": [
    "#### Настройка параметров"
   ]
  },
  {
   "cell_type": "code",
   "execution_count": 106,
   "metadata": {},
   "outputs": [],
   "source": [
    "params_grid_dtc = {\n",
    "    'classifier__max_depth': np.arange(1, 20, 3),\n",
    "    'classifier__min_samples_leaf': [1, 2, 3],\n",
    "    'classifier__min_impurity_decrease': np.logspace(-10, -6, 5),\n",
    "    'classifier__min_samples_split': np.arange(2, 6, 1)\n",
    "}\n",
    "params_grid_gbc = {\n",
    "    'classifier__max_depth': [None] + list(np.arange(1, 12, 3)),\n",
    "    'classifier__n_estimators': np.arange(10, 51, 20),\n",
    "    'classifier__subsample': np.arange(0.6, 1, 0.2),\n",
    "    'classifier__min_samples_split': np.arange(2, 7, 2),\n",
    "    'classifier__max_features': ['auto', 'sqrt', 'log2']\n",
    "}\n",
    "params_grid_rfc = {\n",
    "    'classifier__min_samples_split': np.arange(2, 6, 1),\n",
    "    'classifier__n_estimators': np.arange(1, 20, 3),\n",
    "    'classifier__min_samples_leaf': [1, 2, 3],\n",
    "    'classifier__max_features': ['auto', 'sqrt', 'log2'],\n",
    "    'classifier__max_depth': [None] + list(np.arange(1, 20, 3)),\n",
    "    'classifier__min_impurity_decrease': np.logspace(-10, -6, 5)\n",
    "}"
   ]
  },
  {
   "cell_type": "code",
   "execution_count": 97,
   "metadata": {},
   "outputs": [
    {
     "name": "stdout",
     "output_type": "stream",
     "text": [
      "DecisionTreeClassifier:\n",
      "best quality - 0.6633333333333333\n",
      "params - {'vectorizer__stop_words': None, 'vectorizer__ngram_range': (1, 1), 'vectorizer__min_df': 20, 'vectorizer__max_df': 0.9, 'classifier__min_samples_split': 3, 'classifier__min_samples_leaf': 3, 'classifier__min_impurity_decrease': 1e-10, 'classifier__max_depth': 7}\n",
      "CPU times: user 1min 21s, sys: 999 ms, total: 1min 22s\n",
      "Wall time: 1min 22s\n"
     ]
    }
   ],
   "source": [
    "%%time\n",
    "grid_search_dtc = make_estimator(DecisionTreeClassifier(random_state=5), \n",
    "                                {**params_grid_vectorizer, **params_grid_dtc}, 'accuracy', X, y)\n",
    "print(\"DecisionTreeClassifier:\")\n",
    "print(f\"best quality - {grid_search_dtc.best_score_}\")\n",
    "print(f\"params - {grid_search_dtc.best_params_}\")"
   ]
  },
  {
   "cell_type": "code",
   "execution_count": 101,
   "metadata": {},
   "outputs": [
    {
     "name": "stdout",
     "output_type": "stream",
     "text": [
      "GradientBoostingClassifier:\n",
      "best quality - 0.7953333333333333\n",
      "params - {'vectorizer__stop_words': ['i', 'me', 'my', 'myself', 'we', 'our', 'ours', 'ourselves', 'you', \"you're\", \"you've\", \"you'll\", \"you'd\", 'your', 'yours', 'yourself', 'yourselves', 'he', 'him', 'his', 'himself', 'she', \"she's\", 'her', 'hers', 'herself', 'it', \"it's\", 'its', 'itself', 'they', 'them', 'their', 'theirs', 'themselves', 'what', 'which', 'who', 'whom', 'this', 'that', \"that'll\", 'these', 'those', 'am', 'is', 'are', 'was', 'were', 'be', 'been', 'being', 'have', 'has', 'had', 'having', 'do', 'does', 'did', 'doing', 'a', 'an', 'the', 'and', 'but', 'if', 'or', 'because', 'as', 'until', 'while', 'of', 'at', 'by', 'for', 'with', 'about', 'against', 'between', 'into', 'through', 'during', 'before', 'after', 'above', 'below', 'to', 'from', 'up', 'down', 'in', 'out', 'on', 'off', 'over', 'under', 'again', 'further', 'then', 'once', 'here', 'there', 'when', 'where', 'why', 'how', 'all', 'any', 'both', 'each', 'few', 'more', 'most', 'other', 'some', 'such', 'no', 'nor', 'not', 'only', 'own', 'same', 'so', 'than', 'too', 'very', 's', 't', 'can', 'will', 'just', 'don', \"don't\", 'should', \"should've\", 'now', 'd', 'll', 'm', 'o', 're', 've', 'y', 'ain', 'aren', \"aren't\", 'couldn', \"couldn't\", 'didn', \"didn't\", 'doesn', \"doesn't\", 'hadn', \"hadn't\", 'hasn', \"hasn't\", 'haven', \"haven't\", 'isn', \"isn't\", 'ma', 'mightn', \"mightn't\", 'mustn', \"mustn't\", 'needn', \"needn't\", 'shan', \"shan't\", 'shouldn', \"shouldn't\", 'wasn', \"wasn't\", 'weren', \"weren't\", 'won', \"won't\", 'wouldn', \"wouldn't\"], 'vectorizer__ngram_range': (1, 4), 'vectorizer__min_df': 10, 'vectorizer__max_df': 0.9, 'classifier__subsample': 0.8, 'classifier__n_estimators': 50, 'classifier__min_samples_split': 2, 'classifier__max_features': 'sqrt', 'classifier__max_depth': 9}\n",
      "CPU times: user 8min 20s, sys: 3.74 s, total: 8min 24s\n",
      "Wall time: 8min 24s\n"
     ]
    }
   ],
   "source": [
    "%%time\n",
    "grid_search_gbc = make_estimator(GradientBoostingClassifier(random_state=5), \n",
    "                                {**params_grid_vectorizer, **params_grid_gbc}, 'accuracy', X, y)\n",
    "print(\"GradientBoostingClassifier:\")\n",
    "print(f\"best quality - {grid_search_gbc.best_score_}\")\n",
    "print(f\"params - {grid_search_gbc.best_params_}\")"
   ]
  },
  {
   "cell_type": "code",
   "execution_count": 107,
   "metadata": {},
   "outputs": [
    {
     "name": "stdout",
     "output_type": "stream",
     "text": [
      "RandomForestClassifier:\n",
      "best quality - 0.7346666666666667\n",
      "params - {'vectorizer__stop_words': 'english', 'vectorizer__ngram_range': (1, 1), 'vectorizer__min_df': 10, 'vectorizer__max_df': 0.8, 'classifier__n_estimators': 19, 'classifier__min_samples_split': 5, 'classifier__min_samples_leaf': 3, 'classifier__min_impurity_decrease': 1e-09, 'classifier__max_features': 'sqrt', 'classifier__max_depth': 16}\n",
      "CPU times: user 59.4 s, sys: 1.06 s, total: 1min\n",
      "Wall time: 1min\n"
     ]
    }
   ],
   "source": [
    "%%time\n",
    "grid_search_rfc = make_estimator(RandomForestClassifier(random_state=5), \n",
    "                                {**params_grid_vectorizer, **params_grid_rfc}, 'accuracy', X, y)\n",
    "print(\"RandomForestClassifier:\")\n",
    "print(f\"best quality - {grid_search_rfc.best_score_}\")\n",
    "print(f\"params - {grid_search_rfc.best_params_}\")"
   ]
  },
  {
   "cell_type": "code",
   "execution_count": 108,
   "metadata": {},
   "outputs": [
    {
     "name": "stdout",
     "output_type": "stream",
     "text": [
      "best model - GradientBoostingClassifier\n",
      "best quality - 0.7953333333333333\n",
      "params - {'vectorizer__stop_words': ['i', 'me', 'my', 'myself', 'we', 'our', 'ours', 'ourselves', 'you', \"you're\", \"you've\", \"you'll\", \"you'd\", 'your', 'yours', 'yourself', 'yourselves', 'he', 'him', 'his', 'himself', 'she', \"she's\", 'her', 'hers', 'herself', 'it', \"it's\", 'its', 'itself', 'they', 'them', 'their', 'theirs', 'themselves', 'what', 'which', 'who', 'whom', 'this', 'that', \"that'll\", 'these', 'those', 'am', 'is', 'are', 'was', 'were', 'be', 'been', 'being', 'have', 'has', 'had', 'having', 'do', 'does', 'did', 'doing', 'a', 'an', 'the', 'and', 'but', 'if', 'or', 'because', 'as', 'until', 'while', 'of', 'at', 'by', 'for', 'with', 'about', 'against', 'between', 'into', 'through', 'during', 'before', 'after', 'above', 'below', 'to', 'from', 'up', 'down', 'in', 'out', 'on', 'off', 'over', 'under', 'again', 'further', 'then', 'once', 'here', 'there', 'when', 'where', 'why', 'how', 'all', 'any', 'both', 'each', 'few', 'more', 'most', 'other', 'some', 'such', 'no', 'nor', 'not', 'only', 'own', 'same', 'so', 'than', 'too', 'very', 's', 't', 'can', 'will', 'just', 'don', \"don't\", 'should', \"should've\", 'now', 'd', 'll', 'm', 'o', 're', 've', 'y', 'ain', 'aren', \"aren't\", 'couldn', \"couldn't\", 'didn', \"didn't\", 'doesn', \"doesn't\", 'hadn', \"hadn't\", 'hasn', \"hasn't\", 'haven', \"haven't\", 'isn', \"isn't\", 'ma', 'mightn', \"mightn't\", 'mustn', \"mustn't\", 'needn', \"needn't\", 'shan', \"shan't\", 'shouldn', \"shouldn't\", 'wasn', \"wasn't\", 'weren', \"weren't\", 'won', \"won't\", 'wouldn', \"wouldn't\"], 'vectorizer__ngram_range': (1, 4), 'vectorizer__min_df': 10, 'vectorizer__max_df': 0.9, 'classifier__subsample': 0.8, 'classifier__n_estimators': 50, 'classifier__min_samples_split': 2, 'classifier__max_features': 'sqrt', 'classifier__max_depth': 9}\n"
     ]
    }
   ],
   "source": [
    "results_tree = {'DecisionTreeClassifier': (grid_search_dtc.best_score_, grid_search_dtc.best_params_),\n",
    "                'RandomForestClassifier': (grid_search_rfc.best_score_, grid_search_rfc.best_params_),\n",
    "                'GradientBoostingClassifier': (grid_search_gbc.best_score_, grid_search_gbc.best_params_)\n",
    "                }\n",
    "print(f\"best model - {max(results_tree, key=results_tree.get)}\")\n",
    "print(f\"best quality - {max(results_tree.values())[0]}\")\n",
    "print(f\"params - {max(results_tree.values())[1]}\")"
   ]
  },
  {
   "cell_type": "markdown",
   "metadata": {},
   "source": [
    "## Предсказание"
   ]
  },
  {
   "cell_type": "markdown",
   "metadata": {},
   "source": [
    "### RidgeClassifier"
   ]
  },
  {
   "cell_type": "code",
   "execution_count": 129,
   "metadata": {
    "scrolled": true
   },
   "outputs": [
    {
     "data": {
      "text/plain": [
       "Pipeline(steps=[('vectorizer',\n",
       "                 CountVectorizer(max_df=0.8, min_df=10, ngram_range=(1, 4))),\n",
       "                ('transformer', TfidfTransformer()),\n",
       "                ('classifier',\n",
       "                 RidgeClassifier(alpha=3.7, normalize=True, random_state=5,\n",
       "                                 solver='sparse_cg', tol=0.0071))])"
      ]
     },
     "execution_count": 129,
     "metadata": {},
     "output_type": "execute_result"
    }
   ],
   "source": [
    "rc = make_pipeline(CountVectorizer(min_df=10, ngram_range=(1, 4), max_df=0.8, stop_words=None),\n",
    "                    TfidfTransformer(),\n",
    "                    RidgeClassifier(tol=0.0071, solver='sparse_cg', normalize=True,\n",
    "                                    alpha=3.7, random_state=5))\n",
    "rc.fit(X, y)"
   ]
  },
  {
   "cell_type": "code",
   "execution_count": 132,
   "metadata": {},
   "outputs": [
    {
     "name": "stdout",
     "output_type": "stream",
     "text": [
      "Accuracy: 0.888\n"
     ]
    }
   ],
   "source": [
    "print('Accuracy:', accuracy_score(rc.predict(test.reviews), test.y))"
   ]
  },
  {
   "cell_type": "markdown",
   "metadata": {},
   "source": [
    "### MultinomialNB"
   ]
  },
  {
   "cell_type": "code",
   "execution_count": 133,
   "metadata": {
    "scrolled": true
   },
   "outputs": [
    {
     "data": {
      "text/plain": [
       "Pipeline(steps=[('vectorizer',\n",
       "                 CountVectorizer(max_df=0.8, min_df=10, ngram_range=(1, 3))),\n",
       "                ('transformer', TfidfTransformer()),\n",
       "                ('classifier',\n",
       "                 MultinomialNB(alpha=2.2122162910704493, fit_prior=False))])"
      ]
     },
     "execution_count": 133,
     "metadata": {},
     "output_type": "execute_result"
    }
   ],
   "source": [
    "mnb = make_pipeline(CountVectorizer(min_df=10, ngram_range=(1, 3), max_df=0.8, stop_words=None),\n",
    "                    TfidfTransformer(),\n",
    "                    MultinomialNB(alpha=2.2122162910704493, fit_prior=False))\n",
    "mnb.fit(X, y)"
   ]
  },
  {
   "cell_type": "code",
   "execution_count": 134,
   "metadata": {},
   "outputs": [
    {
     "name": "stdout",
     "output_type": "stream",
     "text": [
      "Accuracy: 0.846\n"
     ]
    }
   ],
   "source": [
    "print('Accuracy:', accuracy_score(mnb.predict(test.reviews), test.y))"
   ]
  },
  {
   "cell_type": "markdown",
   "metadata": {},
   "source": [
    "### GradientBoostingClassifier"
   ]
  },
  {
   "cell_type": "code",
   "execution_count": 135,
   "metadata": {
    "scrolled": true
   },
   "outputs": [
    {
     "data": {
      "text/plain": [
       "Pipeline(steps=[('vectorizer',\n",
       "                 CountVectorizer(max_df=0.9, min_df=10, ngram_range=(1, 4),\n",
       "                                 stop_words=['i', 'me', 'my', 'myself', 'we',\n",
       "                                             'our', 'ours', 'ourselves', 'you',\n",
       "                                             \"you're\", \"you've\", \"you'll\",\n",
       "                                             \"you'd\", 'your', 'yours',\n",
       "                                             'yourself', 'yourselves', 'he',\n",
       "                                             'him', 'his', 'himself', 'she',\n",
       "                                             \"she's\", 'her', 'hers', 'herself',\n",
       "                                             'it', \"it's\", 'its', 'itself', ...])),\n",
       "                ('transformer', TfidfTransformer()),\n",
       "                ('classifier',\n",
       "                 GradientBoostingClassifier(max_depth=9, max_features='sqrt',\n",
       "                                            n_estimators=50, subsample=0.8))])"
      ]
     },
     "execution_count": 135,
     "metadata": {},
     "output_type": "execute_result"
    }
   ],
   "source": [
    "gbc = make_pipeline(CountVectorizer(min_df=10, ngram_range=(1, 4), max_df=0.9, \n",
    "                                    stop_words=['i', 'me', 'my', 'myself', 'we', 'our', 'ours', 'ourselves', 'you', \"you're\", \"you've\", \"you'll\", \"you'd\", 'your', 'yours', 'yourself', 'yourselves', 'he', 'him', 'his', 'himself', 'she', \"she's\", 'her', 'hers', 'herself', 'it', \"it's\", 'its', 'itself', 'they', 'them', 'their', 'theirs', 'themselves', 'what', 'which', 'who', 'whom', 'this', 'that', \"that'll\", 'these', 'those', 'am', 'is', 'are', 'was', 'were', 'be', 'been', 'being', 'have', 'has', 'had', 'having', 'do', 'does', 'did', 'doing', 'a', 'an', 'the', 'and', 'but', 'if', 'or', 'because', 'as', 'until', 'while', 'of', 'at', 'by', 'for', 'with', 'about', 'against', 'between', 'into', 'through', 'during', 'before', 'after', 'above', 'below', 'to', 'from', 'up', 'down', 'in', 'out', 'on', 'off', 'over', 'under', 'again', 'further', 'then', 'once', 'here', 'there', 'when', 'where', 'why', 'how', 'all', 'any', 'both', 'each', 'few', 'more', 'most', 'other', 'some', 'such', 'no', 'nor', 'not', 'only', 'own', 'same', 'so', 'than', 'too', 'very', 's', 't', 'can', 'will', 'just', 'don', \"don't\", 'should', \"should've\", 'now', 'd', 'll', 'm', 'o', 're', 've', 'y', 'ain', 'aren', \"aren't\", 'couldn', \"couldn't\", 'didn', \"didn't\", 'doesn', \"doesn't\", 'hadn', \"hadn't\", 'hasn', \"hasn't\", 'haven', \"haven't\", 'isn', \"isn't\", 'ma', 'mightn', \"mightn't\", 'mustn', \"mustn't\", 'needn', \"needn't\", 'shan', \"shan't\", 'shouldn', \"shouldn't\", 'wasn', \"wasn't\", 'weren', \"weren't\", 'won', \"won't\", 'wouldn', \"wouldn't\"]),\n",
    "                    TfidfTransformer(),\n",
    "                    GradientBoostingClassifier(subsample=0.8, n_estimators=50, min_samples_split=2, max_features='sqrt', max_depth=9))\n",
    "gbc.fit(X, y)"
   ]
  },
  {
   "cell_type": "code",
   "execution_count": 137,
   "metadata": {},
   "outputs": [
    {
     "name": "stdout",
     "output_type": "stream",
     "text": [
      "Accuracy: 0.81\n"
     ]
    }
   ],
   "source": [
    "print('Accuracy:', accuracy_score(gbc.predict(test.reviews), test.y))"
   ]
  }
 ],
 "metadata": {
  "kernelspec": {
   "display_name": "Python 3",
   "language": "python",
   "name": "python3"
  },
  "language_info": {
   "codemirror_mode": {
    "name": "ipython",
    "version": 3
   },
   "file_extension": ".py",
   "mimetype": "text/x-python",
   "name": "python",
   "nbconvert_exporter": "python",
   "pygments_lexer": "ipython3",
   "version": "3.8.8"
  }
 },
 "nbformat": 4,
 "nbformat_minor": 2
}
